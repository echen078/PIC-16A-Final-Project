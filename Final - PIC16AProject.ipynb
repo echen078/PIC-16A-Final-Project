{
 "cells": [
  {
   "cell_type": "markdown",
   "id": "bb5ad90c-a43a-4b9f-8ed1-c66c28fdc620",
   "metadata": {},
   "source": [
    "# PIC 16A Final Project\n",
    "Members:\n",
    "* Ellen Chen\n",
    "* Sasha Avakyan\n",
    "* Michael Yao"
   ]
  },
  {
   "cell_type": "markdown",
   "id": "c1108700-26da-4b62-b665-40a4335e53b7",
   "metadata": {
    "jp-MarkdownHeadingCollapsed": true
   },
   "source": [
    "## Group Contribution Statement\n",
    "\n",
    "All three of us worked on data acquisition and cleaning section. Ellen led Figure 1 and the Logistic Regression Model. Sasha led Figure 2 and the KMNeighbors Classifier Model. Micheal led Figure 3 and both the Random Forrest and Neural Networks Model. Each wrote the explanation for their respective model. The conclusion discussion was written by all."
   ]
  },
  {
   "cell_type": "markdown",
   "id": "0b1c25fa-dead-42a3-bd51-e08e93c9d20e",
   "metadata": {},
   "source": [
    "## Data Cleaning"
   ]
  },
  {
   "cell_type": "code",
   "execution_count": 7,
   "id": "638b32b2-4302-4ca5-81ae-b6261c2551e1",
   "metadata": {
    "scrolled": true
   },
   "outputs": [
    {
     "data": {
      "text/html": [
       "<div>\n",
       "<style scoped>\n",
       "    .dataframe tbody tr th:only-of-type {\n",
       "        vertical-align: middle;\n",
       "    }\n",
       "\n",
       "    .dataframe tbody tr th {\n",
       "        vertical-align: top;\n",
       "    }\n",
       "\n",
       "    .dataframe thead th {\n",
       "        text-align: right;\n",
       "    }\n",
       "</style>\n",
       "<table border=\"1\" class=\"dataframe\">\n",
       "  <thead>\n",
       "    <tr style=\"text-align: right;\">\n",
       "      <th></th>\n",
       "      <th>studyName</th>\n",
       "      <th>Sample Number</th>\n",
       "      <th>Species</th>\n",
       "      <th>Region</th>\n",
       "      <th>Island</th>\n",
       "      <th>Stage</th>\n",
       "      <th>Individual ID</th>\n",
       "      <th>Clutch Completion</th>\n",
       "      <th>Date Egg</th>\n",
       "      <th>Culmen Length (mm)</th>\n",
       "      <th>Culmen Depth (mm)</th>\n",
       "      <th>Flipper Length (mm)</th>\n",
       "      <th>Body Mass (g)</th>\n",
       "      <th>Sex</th>\n",
       "      <th>Delta 15 N (o/oo)</th>\n",
       "      <th>Delta 13 C (o/oo)</th>\n",
       "      <th>Comments</th>\n",
       "    </tr>\n",
       "  </thead>\n",
       "  <tbody>\n",
       "    <tr>\n",
       "      <th>0</th>\n",
       "      <td>PAL0708</td>\n",
       "      <td>1</td>\n",
       "      <td>Adelie Penguin (Pygoscelis adeliae)</td>\n",
       "      <td>Anvers</td>\n",
       "      <td>Torgersen</td>\n",
       "      <td>Adult, 1 Egg Stage</td>\n",
       "      <td>N1A1</td>\n",
       "      <td>Yes</td>\n",
       "      <td>11/11/07</td>\n",
       "      <td>39.1</td>\n",
       "      <td>18.7</td>\n",
       "      <td>181.0</td>\n",
       "      <td>3750.0</td>\n",
       "      <td>MALE</td>\n",
       "      <td>NaN</td>\n",
       "      <td>NaN</td>\n",
       "      <td>Not enough blood for isotopes.</td>\n",
       "    </tr>\n",
       "    <tr>\n",
       "      <th>1</th>\n",
       "      <td>PAL0708</td>\n",
       "      <td>2</td>\n",
       "      <td>Adelie Penguin (Pygoscelis adeliae)</td>\n",
       "      <td>Anvers</td>\n",
       "      <td>Torgersen</td>\n",
       "      <td>Adult, 1 Egg Stage</td>\n",
       "      <td>N1A2</td>\n",
       "      <td>Yes</td>\n",
       "      <td>11/11/07</td>\n",
       "      <td>39.5</td>\n",
       "      <td>17.4</td>\n",
       "      <td>186.0</td>\n",
       "      <td>3800.0</td>\n",
       "      <td>FEMALE</td>\n",
       "      <td>8.94956</td>\n",
       "      <td>-24.69454</td>\n",
       "      <td>NaN</td>\n",
       "    </tr>\n",
       "    <tr>\n",
       "      <th>2</th>\n",
       "      <td>PAL0708</td>\n",
       "      <td>3</td>\n",
       "      <td>Adelie Penguin (Pygoscelis adeliae)</td>\n",
       "      <td>Anvers</td>\n",
       "      <td>Torgersen</td>\n",
       "      <td>Adult, 1 Egg Stage</td>\n",
       "      <td>N2A1</td>\n",
       "      <td>Yes</td>\n",
       "      <td>11/16/07</td>\n",
       "      <td>40.3</td>\n",
       "      <td>18.0</td>\n",
       "      <td>195.0</td>\n",
       "      <td>3250.0</td>\n",
       "      <td>FEMALE</td>\n",
       "      <td>8.36821</td>\n",
       "      <td>-25.33302</td>\n",
       "      <td>NaN</td>\n",
       "    </tr>\n",
       "    <tr>\n",
       "      <th>3</th>\n",
       "      <td>PAL0708</td>\n",
       "      <td>4</td>\n",
       "      <td>Adelie Penguin (Pygoscelis adeliae)</td>\n",
       "      <td>Anvers</td>\n",
       "      <td>Torgersen</td>\n",
       "      <td>Adult, 1 Egg Stage</td>\n",
       "      <td>N2A2</td>\n",
       "      <td>Yes</td>\n",
       "      <td>11/16/07</td>\n",
       "      <td>NaN</td>\n",
       "      <td>NaN</td>\n",
       "      <td>NaN</td>\n",
       "      <td>NaN</td>\n",
       "      <td>NaN</td>\n",
       "      <td>NaN</td>\n",
       "      <td>NaN</td>\n",
       "      <td>Adult not sampled.</td>\n",
       "    </tr>\n",
       "    <tr>\n",
       "      <th>4</th>\n",
       "      <td>PAL0708</td>\n",
       "      <td>5</td>\n",
       "      <td>Adelie Penguin (Pygoscelis adeliae)</td>\n",
       "      <td>Anvers</td>\n",
       "      <td>Torgersen</td>\n",
       "      <td>Adult, 1 Egg Stage</td>\n",
       "      <td>N3A1</td>\n",
       "      <td>Yes</td>\n",
       "      <td>11/16/07</td>\n",
       "      <td>36.7</td>\n",
       "      <td>19.3</td>\n",
       "      <td>193.0</td>\n",
       "      <td>3450.0</td>\n",
       "      <td>FEMALE</td>\n",
       "      <td>8.76651</td>\n",
       "      <td>-25.32426</td>\n",
       "      <td>NaN</td>\n",
       "    </tr>\n",
       "  </tbody>\n",
       "</table>\n",
       "</div>"
      ],
      "text/plain": [
       "  studyName  Sample Number                              Species  Region  \\\n",
       "0   PAL0708              1  Adelie Penguin (Pygoscelis adeliae)  Anvers   \n",
       "1   PAL0708              2  Adelie Penguin (Pygoscelis adeliae)  Anvers   \n",
       "2   PAL0708              3  Adelie Penguin (Pygoscelis adeliae)  Anvers   \n",
       "3   PAL0708              4  Adelie Penguin (Pygoscelis adeliae)  Anvers   \n",
       "4   PAL0708              5  Adelie Penguin (Pygoscelis adeliae)  Anvers   \n",
       "\n",
       "      Island               Stage Individual ID Clutch Completion  Date Egg  \\\n",
       "0  Torgersen  Adult, 1 Egg Stage          N1A1               Yes  11/11/07   \n",
       "1  Torgersen  Adult, 1 Egg Stage          N1A2               Yes  11/11/07   \n",
       "2  Torgersen  Adult, 1 Egg Stage          N2A1               Yes  11/16/07   \n",
       "3  Torgersen  Adult, 1 Egg Stage          N2A2               Yes  11/16/07   \n",
       "4  Torgersen  Adult, 1 Egg Stage          N3A1               Yes  11/16/07   \n",
       "\n",
       "   Culmen Length (mm)  Culmen Depth (mm)  Flipper Length (mm)  Body Mass (g)  \\\n",
       "0                39.1               18.7                181.0         3750.0   \n",
       "1                39.5               17.4                186.0         3800.0   \n",
       "2                40.3               18.0                195.0         3250.0   \n",
       "3                 NaN                NaN                  NaN            NaN   \n",
       "4                36.7               19.3                193.0         3450.0   \n",
       "\n",
       "      Sex  Delta 15 N (o/oo)  Delta 13 C (o/oo)  \\\n",
       "0    MALE                NaN                NaN   \n",
       "1  FEMALE            8.94956          -24.69454   \n",
       "2  FEMALE            8.36821          -25.33302   \n",
       "3     NaN                NaN                NaN   \n",
       "4  FEMALE            8.76651          -25.32426   \n",
       "\n",
       "                         Comments  \n",
       "0  Not enough blood for isotopes.  \n",
       "1                             NaN  \n",
       "2                             NaN  \n",
       "3              Adult not sampled.  \n",
       "4                             NaN  "
      ]
     },
     "execution_count": 7,
     "metadata": {},
     "output_type": "execute_result"
    }
   ],
   "source": [
    "# importing penguins dataset\n",
    "import pandas as pd\n",
    "import numpy as np\n",
    "import urllib\n",
    "from matplotlib import pyplot as plt\n",
    "\n",
    "url = \"https://philchodrow.github.io/PIC16A/datasets/palmer_penguins.csv\"\n",
    "penguins = pd.read_csv(url)\n",
    "\n",
    "penguins.head()"
   ]
  },
  {
   "cell_type": "markdown",
   "id": "aeda9281-7bc0-4a24-a122-24d93e7d1653",
   "metadata": {},
   "source": [
    "---------------------------------------------------------------------"
   ]
  },
  {
   "cell_type": "code",
   "execution_count": 9,
   "id": "4cc4141f-3e6c-478f-95fb-752d5ccaef42",
   "metadata": {},
   "outputs": [
    {
     "data": {
      "text/html": [
       "<div>\n",
       "<style scoped>\n",
       "    .dataframe tbody tr th:only-of-type {\n",
       "        vertical-align: middle;\n",
       "    }\n",
       "\n",
       "    .dataframe tbody tr th {\n",
       "        vertical-align: top;\n",
       "    }\n",
       "\n",
       "    .dataframe thead th {\n",
       "        text-align: right;\n",
       "    }\n",
       "</style>\n",
       "<table border=\"1\" class=\"dataframe\">\n",
       "  <thead>\n",
       "    <tr style=\"text-align: right;\">\n",
       "      <th></th>\n",
       "      <th>Species</th>\n",
       "      <th>Island</th>\n",
       "      <th>Culmen Length (mm)</th>\n",
       "      <th>Culmen Depth (mm)</th>\n",
       "      <th>Flipper Length (mm)</th>\n",
       "      <th>Body Mass (g)</th>\n",
       "      <th>Sex</th>\n",
       "      <th>Delta 15 N (o/oo)</th>\n",
       "      <th>Delta 13 C (o/oo)</th>\n",
       "    </tr>\n",
       "  </thead>\n",
       "  <tbody>\n",
       "    <tr>\n",
       "      <th>112</th>\n",
       "      <td>Adelie</td>\n",
       "      <td>Biscoe</td>\n",
       "      <td>39.7</td>\n",
       "      <td>17.7</td>\n",
       "      <td>193.0</td>\n",
       "      <td>3200.0</td>\n",
       "      <td>FEMALE</td>\n",
       "      <td>9.02657</td>\n",
       "      <td>-26.06203</td>\n",
       "    </tr>\n",
       "    <tr>\n",
       "      <th>85</th>\n",
       "      <td>Adelie</td>\n",
       "      <td>Dream</td>\n",
       "      <td>41.3</td>\n",
       "      <td>20.3</td>\n",
       "      <td>194.0</td>\n",
       "      <td>3550.0</td>\n",
       "      <td>MALE</td>\n",
       "      <td>9.14863</td>\n",
       "      <td>-26.09635</td>\n",
       "    </tr>\n",
       "    <tr>\n",
       "      <th>16</th>\n",
       "      <td>Adelie</td>\n",
       "      <td>Torgersen</td>\n",
       "      <td>38.7</td>\n",
       "      <td>19.0</td>\n",
       "      <td>195.0</td>\n",
       "      <td>3450.0</td>\n",
       "      <td>FEMALE</td>\n",
       "      <td>9.18528</td>\n",
       "      <td>-25.06691</td>\n",
       "    </tr>\n",
       "    <tr>\n",
       "      <th>54</th>\n",
       "      <td>Adelie</td>\n",
       "      <td>Biscoe</td>\n",
       "      <td>34.5</td>\n",
       "      <td>18.1</td>\n",
       "      <td>187.0</td>\n",
       "      <td>2900.0</td>\n",
       "      <td>FEMALE</td>\n",
       "      <td>8.41837</td>\n",
       "      <td>-26.54718</td>\n",
       "    </tr>\n",
       "    <tr>\n",
       "      <th>14</th>\n",
       "      <td>Adelie</td>\n",
       "      <td>Torgersen</td>\n",
       "      <td>34.6</td>\n",
       "      <td>21.1</td>\n",
       "      <td>198.0</td>\n",
       "      <td>4400.0</td>\n",
       "      <td>MALE</td>\n",
       "      <td>8.55583</td>\n",
       "      <td>-25.22588</td>\n",
       "    </tr>\n",
       "    <tr>\n",
       "      <th>...</th>\n",
       "      <td>...</td>\n",
       "      <td>...</td>\n",
       "      <td>...</td>\n",
       "      <td>...</td>\n",
       "      <td>...</td>\n",
       "      <td>...</td>\n",
       "      <td>...</td>\n",
       "      <td>...</td>\n",
       "      <td>...</td>\n",
       "    </tr>\n",
       "    <tr>\n",
       "      <th>306</th>\n",
       "      <td>Gentoo</td>\n",
       "      <td>Biscoe</td>\n",
       "      <td>43.4</td>\n",
       "      <td>14.4</td>\n",
       "      <td>218.0</td>\n",
       "      <td>4600.0</td>\n",
       "      <td>FEMALE</td>\n",
       "      <td>8.23468</td>\n",
       "      <td>-26.18599</td>\n",
       "    </tr>\n",
       "    <tr>\n",
       "      <th>165</th>\n",
       "      <td>Chinstrap</td>\n",
       "      <td>Dream</td>\n",
       "      <td>52.0</td>\n",
       "      <td>18.1</td>\n",
       "      <td>201.0</td>\n",
       "      <td>4050.0</td>\n",
       "      <td>MALE</td>\n",
       "      <td>9.02330</td>\n",
       "      <td>-24.38933</td>\n",
       "    </tr>\n",
       "    <tr>\n",
       "      <th>7</th>\n",
       "      <td>Adelie</td>\n",
       "      <td>Torgersen</td>\n",
       "      <td>39.2</td>\n",
       "      <td>19.6</td>\n",
       "      <td>195.0</td>\n",
       "      <td>4675.0</td>\n",
       "      <td>MALE</td>\n",
       "      <td>9.46060</td>\n",
       "      <td>-24.89958</td>\n",
       "    </tr>\n",
       "    <tr>\n",
       "      <th>219</th>\n",
       "      <td>Chinstrap</td>\n",
       "      <td>Dream</td>\n",
       "      <td>50.2</td>\n",
       "      <td>18.7</td>\n",
       "      <td>198.0</td>\n",
       "      <td>3775.0</td>\n",
       "      <td>FEMALE</td>\n",
       "      <td>9.39305</td>\n",
       "      <td>-24.25255</td>\n",
       "    </tr>\n",
       "    <tr>\n",
       "      <th>326</th>\n",
       "      <td>Gentoo</td>\n",
       "      <td>Biscoe</td>\n",
       "      <td>41.7</td>\n",
       "      <td>14.7</td>\n",
       "      <td>210.0</td>\n",
       "      <td>4700.0</td>\n",
       "      <td>FEMALE</td>\n",
       "      <td>8.12311</td>\n",
       "      <td>-26.44815</td>\n",
       "    </tr>\n",
       "  </tbody>\n",
       "</table>\n",
       "<p>240 rows × 9 columns</p>\n",
       "</div>"
      ],
      "text/plain": [
       "       Species     Island  Culmen Length (mm)  Culmen Depth (mm)  \\\n",
       "112     Adelie     Biscoe                39.7               17.7   \n",
       "85      Adelie      Dream                41.3               20.3   \n",
       "16      Adelie  Torgersen                38.7               19.0   \n",
       "54      Adelie     Biscoe                34.5               18.1   \n",
       "14      Adelie  Torgersen                34.6               21.1   \n",
       "..         ...        ...                 ...                ...   \n",
       "306     Gentoo     Biscoe                43.4               14.4   \n",
       "165  Chinstrap      Dream                52.0               18.1   \n",
       "7       Adelie  Torgersen                39.2               19.6   \n",
       "219  Chinstrap      Dream                50.2               18.7   \n",
       "326     Gentoo     Biscoe                41.7               14.7   \n",
       "\n",
       "     Flipper Length (mm)  Body Mass (g)     Sex  Delta 15 N (o/oo)  \\\n",
       "112                193.0         3200.0  FEMALE            9.02657   \n",
       "85                 194.0         3550.0    MALE            9.14863   \n",
       "16                 195.0         3450.0  FEMALE            9.18528   \n",
       "54                 187.0         2900.0  FEMALE            8.41837   \n",
       "14                 198.0         4400.0    MALE            8.55583   \n",
       "..                   ...            ...     ...                ...   \n",
       "306                218.0         4600.0  FEMALE            8.23468   \n",
       "165                201.0         4050.0    MALE            9.02330   \n",
       "7                  195.0         4675.0    MALE            9.46060   \n",
       "219                198.0         3775.0  FEMALE            9.39305   \n",
       "326                210.0         4700.0  FEMALE            8.12311   \n",
       "\n",
       "     Delta 13 C (o/oo)  \n",
       "112          -26.06203  \n",
       "85           -26.09635  \n",
       "16           -25.06691  \n",
       "54           -26.54718  \n",
       "14           -25.22588  \n",
       "..                 ...  \n",
       "306          -26.18599  \n",
       "165          -24.38933  \n",
       "7            -24.89958  \n",
       "219          -24.25255  \n",
       "326          -26.44815  \n",
       "\n",
       "[240 rows x 9 columns]"
      ]
     },
     "execution_count": 9,
     "metadata": {},
     "output_type": "execute_result"
    }
   ],
   "source": [
    "from sklearn.model_selection import train_test_split\n",
    "\n",
    "# Split the data into training and testing set\n",
    "penguins_train, penguins_test = train_test_split(penguins, test_size = 0.3, random_state=40)\n",
    "\n",
    "def clean_data(df):\n",
    "    ''' \n",
    "    Cleans the inputted dataframe by shortening the species name based on the first word \n",
    "    of the species (before any space) and drops the not needed colums: 'studyName', 'Region', 'Sample Number', 'Stage', \n",
    "       'Individual ID', 'Clutch Completion', 'Date Egg', and 'Comments'\n",
    "\n",
    "    Parameters: \n",
    "    df (pandas DataFrame): This is the dataframe with the raw data\n",
    "\n",
    "    Returns: \n",
    "    pandas.DataFrame: \n",
    "    '''\n",
    "    # Shorten species name\n",
    "    df[\"Species\"] = df[\"Species\"].str.split().str.get(0)    #shorten species name\n",
    "    \n",
    "    # Drop unnecessary columns\n",
    "    df_new = df.drop(['studyName', 'Region', 'Sample Number', 'Stage', 'Individual ID', 'Clutch Completion', 'Date Egg', 'Comments'], axis=1)\n",
    "\n",
    "    return df_new\n",
    "\n",
    "# Clean the train and test sets\n",
    "cleaned_penguins_train = clean_data(penguins_train)\n",
    "cleaned_penguins_test = clean_data(penguins_test)\n",
    "\n",
    "cleaned_penguins_train"
   ]
  },
  {
   "cell_type": "markdown",
   "id": "5d27422b-f56d-4fb6-bb84-4cfcabd4a9d1",
   "metadata": {},
   "source": [
    "-------------------------------------------------------------"
   ]
  },
  {
   "cell_type": "markdown",
   "id": "1871493c-b0bd-4262-b591-ed0eed81d9de",
   "metadata": {},
   "source": [
    "## Data Exploration"
   ]
  },
  {
   "cell_type": "markdown",
   "id": "a12ecd7a-899c-4672-8f7c-5f68d784924e",
   "metadata": {},
   "source": [
    "**Figure 1**"
   ]
  },
  {
   "cell_type": "code",
   "execution_count": 13,
   "id": "b161d4ad-1799-4f68-bd9a-b3b997d87164",
   "metadata": {},
   "outputs": [
    {
     "data": {
      "text/plain": [
       "<seaborn.axisgrid.FacetGrid at 0x160f9ab30>"
      ]
     },
     "execution_count": 13,
     "metadata": {},
     "output_type": "execute_result"
    },
    {
     "data": {
      "image/png": "[encoded data removed]",
      "text/plain": [
       "<Figure size 900x900 with 9 Axes>"
      ]
     },
     "metadata": {},
     "output_type": "display_data"
    }
   ],
   "source": [
    "import seaborn as sns\n",
    "\n",
    "# Creates density plot of islands separated by species and sex\n",
    "sns.displot(\n",
    "    cleaned_penguins_train.dropna(subset = ['Sex']), x=\"Species\", col=\"Island\", row=\"Sex\",\n",
    "    binwidth=3, height=3, facet_kws=dict(margin_titles=True),\n",
    ")"
   ]
  },
  {
   "cell_type": "markdown",
   "id": "97409b75-ff80-47dc-bdef-5a7b93f703b3",
   "metadata": {},
   "source": [
    "Discussion:\n",
    "* We can see that one island is really indicative of species:\n",
    "    * If island is *Torgersen*, species must be *Adelie*\n",
    "* The other two island can also be very helpful in narrowing down options\n",
    "    * If island is *Dream*, species must not be *Gentoo*\n",
    "    * If island is *Biscoe*, species must not be *Chinstrap*"
   ]
  },
  {
   "cell_type": "markdown",
   "id": "de56059c-db57-45af-a201-f8645cd0930d",
   "metadata": {},
   "source": [
    "**Figure 2**"
   ]
  },
  {
   "cell_type": "code",
   "execution_count": 16,
   "id": "b463907e-2b5b-4d23-8c45-09c6049a94a2",
   "metadata": {},
   "outputs": [
    {
     "data": {
      "image/png": "[encoded data removed]",
      "text/plain": [
       "<Figure size 1617.75x500 with 3 Axes>"
      ]
     },
     "metadata": {},
     "output_type": "display_data"
    }
   ],
   "source": [
    "import matplotlib.pyplot as plt\n",
    "import seaborn as sns\n",
    "\n",
    "def plot_penguins_by_sex(df):\n",
    "    ''' \n",
    "    Plots a scatterplot of culmen length vs depth for penguins \n",
    "    grouped by sex using seabird’s ‘FacetGrid’ for each sex category plotting\n",
    "\n",
    "    Parameters: \n",
    "    - df: pandas dataframe\n",
    "    '''\n",
    "    g = sns.FacetGrid(data=df, col=\"Sex\", sharex=True, height=5, aspect=1.0)\n",
    "    g.map_dataframe(\n",
    "        sns.scatterplot, x=\"Culmen Length (mm)\", y=\"Culmen Depth (mm)\", hue=\"Island\"\n",
    "    )\n",
    "    g.set_axis_labels(\"Culmen Length (mm)\", \"Culmen Depth (mm)\")\n",
    "    g.add_legend(title=\"Island\")\n",
    "    g.fig.subplots_adjust(top=0.85)  \n",
    "    g.fig.suptitle(\"Culmen Length vs. Culmen Depth by Sex\", fontsize=16) \n",
    "    plt.show()\n",
    "\n",
    "plot_penguins_by_sex(cleaned_penguins_train)\n",
    "#need to figure out title labels \n",
    "#need to write a docstring \n",
    "#make the graph cleaner"
   ]
  },
  {
   "cell_type": "markdown",
   "id": "9fe2a060-2289-4e2c-9259-57e3faaae08b",
   "metadata": {},
   "source": [
    "**Discussion:** According to the left scatterplot, in female penguins, there appears to be some clustering by Torgersen and Dream Island around the 45 bill length. However, there is a cluster of intermixed island populations - Biscoe, Torgersen, and Dream. The same trend applies for male penguins, but more distinct clusters appear for Dream and Biscoe and a cluster of the three intermixed Island populations. "
   ]
  },
  {
   "cell_type": "markdown",
   "id": "18e5fd38-35cc-4e33-bfab-4251bda9322e",
   "metadata": {},
   "source": [
    "**Figure 3**"
   ]
  },
  {
   "cell_type": "code",
   "execution_count": 19,
   "id": "c4e7b407-5264-433f-9e8a-f9891de1c1cf",
   "metadata": {},
   "outputs": [
    {
     "data": {
      "text/plain": [
       "<Figure size 800x600 with 0 Axes>"
      ]
     },
     "metadata": {},
     "output_type": "display_data"
    },
    {
     "data": {
      "image/png": "[encoded data removed]",
      "text/plain": [
       "<Figure size 640x480 with 1 Axes>"
      ]
     },
     "metadata": {},
     "output_type": "display_data"
    }
   ],
   "source": [
    "# Boxplot: Flipper Length by Species\n",
    "plt.figure(figsize=(8, 6))\n",
    "cleaned_penguins_train.boxplot(column='Flipper Length (mm)', by='Species', grid=False)\n",
    "\n",
    "plt.xlabel('Species')\n",
    "plt.ylabel('Flipper Length (mm)')\n",
    "plt.title('Flipper Length by Species')\n",
    "plt.suptitle('') \n",
    "plt.show()"
   ]
  },
  {
   "cell_type": "markdown",
   "id": "579d7ac0-cb98-49bc-828b-915e681ed06c",
   "metadata": {},
   "source": [
    "**Disucssion:**\n",
    "By the boxplot, flipper length could the predictive of the penguin's species. Gentoo have the longest average flipper length, followed by the Chinstraps and the adelie. By this observation, the average flipper length is around 190 mm, for chinstrap it is arounf 195 mm, for gentoo it is as high as 218 mm. However, it is important to notice that the flipper length of adeline and chinstrap species are quite close, which suggests that flipper length is not optimal for species prediction."
   ]
  },
  {
   "cell_type": "markdown",
   "id": "212266ab-4548-4559-bea4-ff6fa0ef4c8c",
   "metadata": {},
   "source": [
    "**Additional Data Exploration**"
   ]
  },
  {
   "cell_type": "markdown",
   "id": "fb935479-ef29-402d-8c5d-62cd6425c77e",
   "metadata": {},
   "source": [
    "**Table 1**"
   ]
  },
  {
   "cell_type": "code",
   "execution_count": 23,
   "id": "687e63c3-25de-4093-99f8-f9870ab66294",
   "metadata": {},
   "outputs": [
    {
     "data": {
      "text/html": [
       "<div>\n",
       "<style scoped>\n",
       "    .dataframe tbody tr th:only-of-type {\n",
       "        vertical-align: middle;\n",
       "    }\n",
       "\n",
       "    .dataframe tbody tr th {\n",
       "        vertical-align: top;\n",
       "    }\n",
       "\n",
       "    .dataframe thead th {\n",
       "        text-align: right;\n",
       "    }\n",
       "</style>\n",
       "<table border=\"1\" class=\"dataframe\">\n",
       "  <thead>\n",
       "    <tr style=\"text-align: right;\">\n",
       "      <th></th>\n",
       "      <th>Culmen Length (mm)</th>\n",
       "      <th>Culmen Depth (mm)</th>\n",
       "    </tr>\n",
       "    <tr>\n",
       "      <th>Species</th>\n",
       "      <th></th>\n",
       "      <th></th>\n",
       "    </tr>\n",
       "  </thead>\n",
       "  <tbody>\n",
       "    <tr>\n",
       "      <th>Adelie</th>\n",
       "      <td>38.73</td>\n",
       "      <td>18.32</td>\n",
       "    </tr>\n",
       "    <tr>\n",
       "      <th>Chinstrap</th>\n",
       "      <td>48.81</td>\n",
       "      <td>18.30</td>\n",
       "    </tr>\n",
       "    <tr>\n",
       "      <th>Gentoo</th>\n",
       "      <td>47.55</td>\n",
       "      <td>15.03</td>\n",
       "    </tr>\n",
       "  </tbody>\n",
       "</table>\n",
       "</div>"
      ],
      "text/plain": [
       "           Culmen Length (mm)  Culmen Depth (mm)\n",
       "Species                                         \n",
       "Adelie                  38.73              18.32\n",
       "Chinstrap               48.81              18.30\n",
       "Gentoo                  47.55              15.03"
      ]
     },
     "execution_count": 23,
     "metadata": {},
     "output_type": "execute_result"
    }
   ],
   "source": [
    "cleaned_penguins_train.groupby(\"Species\")[[\"Culmen Length (mm)\", \"Culmen Depth (mm)\"]].mean().round(2)"
   ]
  },
  {
   "cell_type": "markdown",
   "id": "f5055f68-f67f-4cf9-8625-ab080ee657f4",
   "metadata": {},
   "source": [
    "Discussion:\n",
    "* This shows that while there isn't a significant difference between culmen length of *Gentoo* and *Chinstrap*, there is a **significant difference** between *Adelie* and the other two.\n",
    "* And while there isn't a significant difference betwen the culmen depth of *Adelie* and *Chinstrap*, there is a **significant difference** between *Gentoo* and the other two\n",
    "\n",
    "Predictions:\n",
    "* Given a culmen length <40, likely an **Adelie**. If >40, either Chinstrap or Gentoo.\n",
    "* Given a culmen depth <15, likely a **Gentoo**. If >15, either Adelie or Chinstrap.\n",
    "\n",
    "* combined with island, we can figure out the species."
   ]
  },
  {
   "cell_type": "markdown",
   "id": "eeae267d-bf80-490b-8064-34a4027e6606",
   "metadata": {},
   "source": [
    "**Table 2**"
   ]
  },
  {
   "cell_type": "code",
   "execution_count": 26,
   "id": "898a0e5d-0bfd-4f1b-b0f4-9d0b7dbca36f",
   "metadata": {},
   "outputs": [
    {
     "data": {
      "text/html": [
       "<div>\n",
       "<style scoped>\n",
       "    .dataframe tbody tr th:only-of-type {\n",
       "        vertical-align: middle;\n",
       "    }\n",
       "\n",
       "    .dataframe tbody tr th {\n",
       "        vertical-align: top;\n",
       "    }\n",
       "\n",
       "    .dataframe thead th {\n",
       "        text-align: right;\n",
       "    }\n",
       "</style>\n",
       "<table border=\"1\" class=\"dataframe\">\n",
       "  <thead>\n",
       "    <tr style=\"text-align: right;\">\n",
       "      <th></th>\n",
       "      <th>Body Mass (g)</th>\n",
       "      <th>Flipper Length (mm)</th>\n",
       "    </tr>\n",
       "    <tr>\n",
       "      <th>Species</th>\n",
       "      <th></th>\n",
       "      <th></th>\n",
       "    </tr>\n",
       "  </thead>\n",
       "  <tbody>\n",
       "    <tr>\n",
       "      <th>Adelie</th>\n",
       "      <td>3683.73</td>\n",
       "      <td>190.55</td>\n",
       "    </tr>\n",
       "    <tr>\n",
       "      <th>Chinstrap</th>\n",
       "      <td>3780.56</td>\n",
       "      <td>196.49</td>\n",
       "    </tr>\n",
       "    <tr>\n",
       "      <th>Gentoo</th>\n",
       "      <td>5094.60</td>\n",
       "      <td>217.25</td>\n",
       "    </tr>\n",
       "  </tbody>\n",
       "</table>\n",
       "</div>"
      ],
      "text/plain": [
       "           Body Mass (g)  Flipper Length (mm)\n",
       "Species                                      \n",
       "Adelie           3683.73               190.55\n",
       "Chinstrap        3780.56               196.49\n",
       "Gentoo           5094.60               217.25"
      ]
     },
     "execution_count": 26,
     "metadata": {},
     "output_type": "execute_result"
    }
   ],
   "source": [
    "cleaned_penguins_train.groupby(\"Species\")[[\"Body Mass (g)\", \"Flipper Length (mm)\"]].mean().round(2)"
   ]
  },
  {
   "cell_type": "markdown",
   "id": "e5b19325-57bd-43d2-b843-4729d50c7b41",
   "metadata": {},
   "source": [
    "Discussion:\n",
    "* While there isn't a significant difference between the body mass of Adelie and Chinstrap, there is a significant difference between *Gentoo* and the other two.\n",
    "* While the mean of flipper length of adelie and chinstrap differs by ~5mm, gentoo differs from adelie by ~27mm and from chinstrap by ~22mm.\n",
    "\n",
    "Predictions:\n",
    "* If body mass > 4000, likely its Gentoo\n",
    "* If flipper length >200, likely its Gentoo (not a huge distinction tho)"
   ]
  },
  {
   "cell_type": "markdown",
   "id": "6b28d5ac-186b-40dd-93a1-a829fa156ad6",
   "metadata": {},
   "source": [
    "**Table 3**"
   ]
  },
  {
   "cell_type": "code",
   "execution_count": 29,
   "id": "50624d3e-c4f6-465e-856f-36d27d41cd97",
   "metadata": {},
   "outputs": [
    {
     "data": {
      "text/html": [
       "<div>\n",
       "<style scoped>\n",
       "    .dataframe tbody tr th:only-of-type {\n",
       "        vertical-align: middle;\n",
       "    }\n",
       "\n",
       "    .dataframe tbody tr th {\n",
       "        vertical-align: top;\n",
       "    }\n",
       "\n",
       "    .dataframe thead th {\n",
       "        text-align: right;\n",
       "    }\n",
       "</style>\n",
       "<table border=\"1\" class=\"dataframe\">\n",
       "  <thead>\n",
       "    <tr style=\"text-align: right;\">\n",
       "      <th></th>\n",
       "      <th></th>\n",
       "      <th>Flipper Length (mm)</th>\n",
       "      <th>Culmen Length (mm)</th>\n",
       "    </tr>\n",
       "    <tr>\n",
       "      <th>Species</th>\n",
       "      <th>Island</th>\n",
       "      <th></th>\n",
       "      <th></th>\n",
       "    </tr>\n",
       "  </thead>\n",
       "  <tbody>\n",
       "    <tr>\n",
       "      <th rowspan=\"3\" valign=\"top\">Adelie</th>\n",
       "      <th>Biscoe</th>\n",
       "      <td>190.11</td>\n",
       "      <td>39.06</td>\n",
       "    </tr>\n",
       "    <tr>\n",
       "      <th>Dream</th>\n",
       "      <td>189.42</td>\n",
       "      <td>38.24</td>\n",
       "    </tr>\n",
       "    <tr>\n",
       "      <th>Torgersen</th>\n",
       "      <td>192.05</td>\n",
       "      <td>39.00</td>\n",
       "    </tr>\n",
       "    <tr>\n",
       "      <th>Chinstrap</th>\n",
       "      <th>Dream</th>\n",
       "      <td>196.49</td>\n",
       "      <td>48.81</td>\n",
       "    </tr>\n",
       "    <tr>\n",
       "      <th>Gentoo</th>\n",
       "      <th>Biscoe</th>\n",
       "      <td>217.25</td>\n",
       "      <td>47.55</td>\n",
       "    </tr>\n",
       "  </tbody>\n",
       "</table>\n",
       "</div>"
      ],
      "text/plain": [
       "                     Flipper Length (mm)  Culmen Length (mm)\n",
       "Species   Island                                            \n",
       "Adelie    Biscoe                  190.11               39.06\n",
       "          Dream                   189.42               38.24\n",
       "          Torgersen               192.05               39.00\n",
       "Chinstrap Dream                   196.49               48.81\n",
       "Gentoo    Biscoe                  217.25               47.55"
      ]
     },
     "execution_count": 29,
     "metadata": {},
     "output_type": "execute_result"
    }
   ],
   "source": [
    "cleaned_penguins_train.groupby([\"Species\", \"Island\"])[[\"Flipper Length (mm)\", \"Culmen Length (mm)\"]].mean().round(2)"
   ]
  },
  {
   "cell_type": "markdown",
   "id": "5ffe489a-3a82-4257-8d2a-a506de658697",
   "metadata": {},
   "source": [
    "**Discussion:** This table represents the average flipper length and culmen length, in mm, grouped by species and island. This table demonstrates that flipper length is the largest on average in the Gentoo species of penguin, which are located on Biscoe. A noticed trend in Chinstrap penguins is that Culmen Length is the largest on average compared to other species. This table hints that there are differences in flipper length and culmen length of certain species based on their island location."
   ]
  },
  {
   "cell_type": "markdown",
   "id": "74fd4240-b45e-4efd-94a3-ec0a60b4b2e0",
   "metadata": {},
   "source": [
    "**Table 4**"
   ]
  },
  {
   "cell_type": "code",
   "execution_count": 32,
   "id": "9bcf5e71-bd07-42a6-87b8-39c20eb3db7b",
   "metadata": {},
   "outputs": [
    {
     "data": {
      "text/html": [
       "<div>\n",
       "<style scoped>\n",
       "    .dataframe tbody tr th:only-of-type {\n",
       "        vertical-align: middle;\n",
       "    }\n",
       "\n",
       "    .dataframe tbody tr th {\n",
       "        vertical-align: top;\n",
       "    }\n",
       "\n",
       "    .dataframe thead th {\n",
       "        text-align: right;\n",
       "    }\n",
       "</style>\n",
       "<table border=\"1\" class=\"dataframe\">\n",
       "  <thead>\n",
       "    <tr style=\"text-align: right;\">\n",
       "      <th></th>\n",
       "      <th></th>\n",
       "      <th>Flipper Length (mm)</th>\n",
       "      <th>Culmen Length (mm)</th>\n",
       "    </tr>\n",
       "    <tr>\n",
       "      <th>Species</th>\n",
       "      <th>Sex</th>\n",
       "      <th></th>\n",
       "      <th></th>\n",
       "    </tr>\n",
       "  </thead>\n",
       "  <tbody>\n",
       "    <tr>\n",
       "      <th rowspan=\"2\" valign=\"top\">Adelie</th>\n",
       "      <th>FEMALE</th>\n",
       "      <td>188.18</td>\n",
       "      <td>37.15</td>\n",
       "    </tr>\n",
       "    <tr>\n",
       "      <th>MALE</th>\n",
       "      <td>193.10</td>\n",
       "      <td>40.56</td>\n",
       "    </tr>\n",
       "    <tr>\n",
       "      <th rowspan=\"2\" valign=\"top\">Chinstrap</th>\n",
       "      <th>FEMALE</th>\n",
       "      <td>192.08</td>\n",
       "      <td>47.16</td>\n",
       "    </tr>\n",
       "    <tr>\n",
       "      <th>MALE</th>\n",
       "      <td>201.52</td>\n",
       "      <td>50.69</td>\n",
       "    </tr>\n",
       "    <tr>\n",
       "      <th rowspan=\"3\" valign=\"top\">Gentoo</th>\n",
       "      <th>.</th>\n",
       "      <td>217.00</td>\n",
       "      <td>44.50</td>\n",
       "    </tr>\n",
       "    <tr>\n",
       "      <th>FEMALE</th>\n",
       "      <td>213.00</td>\n",
       "      <td>45.57</td>\n",
       "    </tr>\n",
       "    <tr>\n",
       "      <th>MALE</th>\n",
       "      <td>220.96</td>\n",
       "      <td>49.39</td>\n",
       "    </tr>\n",
       "  </tbody>\n",
       "</table>\n",
       "</div>"
      ],
      "text/plain": [
       "                  Flipper Length (mm)  Culmen Length (mm)\n",
       "Species   Sex                                            \n",
       "Adelie    FEMALE               188.18               37.15\n",
       "          MALE                 193.10               40.56\n",
       "Chinstrap FEMALE               192.08               47.16\n",
       "          MALE                 201.52               50.69\n",
       "Gentoo    .                    217.00               44.50\n",
       "          FEMALE               213.00               45.57\n",
       "          MALE                 220.96               49.39"
      ]
     },
     "execution_count": 32,
     "metadata": {},
     "output_type": "execute_result"
    }
   ],
   "source": [
    "cleaned_penguins_train.groupby([\"Species\", \"Sex\"])[[\"Flipper Length (mm)\", \"Culmen Length (mm)\"]].mean().round(2)"
   ]
  },
  {
   "cell_type": "markdown",
   "id": "328f6c30-c007-4dcf-b9d6-02237dbd8ea2",
   "metadata": {},
   "source": [
    "**Discussion:** This table demonstrates average flipper length and culmen length in species, grouped by sex. This demonstrates that in every species, male penguins have a higher on average flipper length and culmen length in comparison with female counterparts."
   ]
  },
  {
   "cell_type": "markdown",
   "id": "4022b7a4-6a0c-4ada-a531-94827909a8d4",
   "metadata": {},
   "source": [
    "---------------------------------------------------"
   ]
  },
  {
   "cell_type": "markdown",
   "id": "6c1d4761-11db-4913-b108-b00f48fffabd",
   "metadata": {},
   "source": [
    "## Feature Selection\n",
    "* on cleaned training and testing data"
   ]
  },
  {
   "cell_type": "code",
   "execution_count": 36,
   "id": "40f80b9f-7b44-435f-8117-1f34f63f1fbf",
   "metadata": {},
   "outputs": [],
   "source": [
    "from sklearn import preprocessing\n",
    "\n",
    "# Prepare data for modeling\n",
    "def prep_penguins_data(data):\n",
    "    '''\n",
    "    Prepares data by encoding qualitative data into quantitative data for later modeling.\n",
    "    Also drops unnecessary data and splits data into predictor and target.\n",
    "\n",
    "    Parameter:\n",
    "    - data: the dataframe to encode and clean\n",
    "    '''\n",
    "    df = data.copy()\n",
    "    le = preprocessing.LabelEncoder()\n",
    "    df['Sex'] = le.fit_transform(df['Sex'])\n",
    "        # 1: Female,  2: Male\n",
    "    df['Island'] = le.fit_transform(df['Island'])\n",
    "        # 0: Biscoe,  1: Dream,  2: Torgersen\n",
    "    df['Species'] = le.fit_transform(df['Species'])\n",
    "        # 0: Adelie,  1: Chinstrap,  2: Gentoo\n",
    "    df = df.dropna()\n",
    "\n",
    "    X = df.drop(['Species'], axis = 1)\n",
    "    y = df['Species']\n",
    "\n",
    "    return(X, y)\n",
    "\n",
    "# Apply prep to previous cleaning training and testing set\n",
    "X_train, y_train = prep_penguins_data(cleaned_penguins_train)\n",
    "X_test, y_test = prep_penguins_data(cleaned_penguins_test)"
   ]
  },
  {
   "cell_type": "code",
   "execution_count": 37,
   "id": "1ea23e8b-bfce-4fed-b439-e51a2e27384e",
   "metadata": {
    "scrolled": true
   },
   "outputs": [
    {
     "data": {
      "text/html": [
       "<div>\n",
       "<style scoped>\n",
       "    .dataframe tbody tr th:only-of-type {\n",
       "        vertical-align: middle;\n",
       "    }\n",
       "\n",
       "    .dataframe tbody tr th {\n",
       "        vertical-align: top;\n",
       "    }\n",
       "\n",
       "    .dataframe thead th {\n",
       "        text-align: right;\n",
       "    }\n",
       "</style>\n",
       "<table border=\"1\" class=\"dataframe\">\n",
       "  <thead>\n",
       "    <tr style=\"text-align: right;\">\n",
       "      <th></th>\n",
       "      <th>Island</th>\n",
       "      <th>Culmen Length (mm)</th>\n",
       "      <th>Culmen Depth (mm)</th>\n",
       "      <th>Flipper Length (mm)</th>\n",
       "      <th>Body Mass (g)</th>\n",
       "      <th>Sex</th>\n",
       "      <th>Delta 15 N (o/oo)</th>\n",
       "      <th>Delta 13 C (o/oo)</th>\n",
       "    </tr>\n",
       "  </thead>\n",
       "  <tbody>\n",
       "    <tr>\n",
       "      <th>112</th>\n",
       "      <td>0</td>\n",
       "      <td>39.7</td>\n",
       "      <td>17.7</td>\n",
       "      <td>193.0</td>\n",
       "      <td>3200.0</td>\n",
       "      <td>1</td>\n",
       "      <td>9.02657</td>\n",
       "      <td>-26.06203</td>\n",
       "    </tr>\n",
       "    <tr>\n",
       "      <th>85</th>\n",
       "      <td>1</td>\n",
       "      <td>41.3</td>\n",
       "      <td>20.3</td>\n",
       "      <td>194.0</td>\n",
       "      <td>3550.0</td>\n",
       "      <td>2</td>\n",
       "      <td>9.14863</td>\n",
       "      <td>-26.09635</td>\n",
       "    </tr>\n",
       "    <tr>\n",
       "      <th>16</th>\n",
       "      <td>2</td>\n",
       "      <td>38.7</td>\n",
       "      <td>19.0</td>\n",
       "      <td>195.0</td>\n",
       "      <td>3450.0</td>\n",
       "      <td>1</td>\n",
       "      <td>9.18528</td>\n",
       "      <td>-25.06691</td>\n",
       "    </tr>\n",
       "    <tr>\n",
       "      <th>54</th>\n",
       "      <td>0</td>\n",
       "      <td>34.5</td>\n",
       "      <td>18.1</td>\n",
       "      <td>187.0</td>\n",
       "      <td>2900.0</td>\n",
       "      <td>1</td>\n",
       "      <td>8.41837</td>\n",
       "      <td>-26.54718</td>\n",
       "    </tr>\n",
       "    <tr>\n",
       "      <th>14</th>\n",
       "      <td>2</td>\n",
       "      <td>34.6</td>\n",
       "      <td>21.1</td>\n",
       "      <td>198.0</td>\n",
       "      <td>4400.0</td>\n",
       "      <td>2</td>\n",
       "      <td>8.55583</td>\n",
       "      <td>-25.22588</td>\n",
       "    </tr>\n",
       "    <tr>\n",
       "      <th>...</th>\n",
       "      <td>...</td>\n",
       "      <td>...</td>\n",
       "      <td>...</td>\n",
       "      <td>...</td>\n",
       "      <td>...</td>\n",
       "      <td>...</td>\n",
       "      <td>...</td>\n",
       "      <td>...</td>\n",
       "    </tr>\n",
       "    <tr>\n",
       "      <th>306</th>\n",
       "      <td>0</td>\n",
       "      <td>43.4</td>\n",
       "      <td>14.4</td>\n",
       "      <td>218.0</td>\n",
       "      <td>4600.0</td>\n",
       "      <td>1</td>\n",
       "      <td>8.23468</td>\n",
       "      <td>-26.18599</td>\n",
       "    </tr>\n",
       "    <tr>\n",
       "      <th>165</th>\n",
       "      <td>1</td>\n",
       "      <td>52.0</td>\n",
       "      <td>18.1</td>\n",
       "      <td>201.0</td>\n",
       "      <td>4050.0</td>\n",
       "      <td>2</td>\n",
       "      <td>9.02330</td>\n",
       "      <td>-24.38933</td>\n",
       "    </tr>\n",
       "    <tr>\n",
       "      <th>7</th>\n",
       "      <td>2</td>\n",
       "      <td>39.2</td>\n",
       "      <td>19.6</td>\n",
       "      <td>195.0</td>\n",
       "      <td>4675.0</td>\n",
       "      <td>2</td>\n",
       "      <td>9.46060</td>\n",
       "      <td>-24.89958</td>\n",
       "    </tr>\n",
       "    <tr>\n",
       "      <th>219</th>\n",
       "      <td>1</td>\n",
       "      <td>50.2</td>\n",
       "      <td>18.7</td>\n",
       "      <td>198.0</td>\n",
       "      <td>3775.0</td>\n",
       "      <td>1</td>\n",
       "      <td>9.39305</td>\n",
       "      <td>-24.25255</td>\n",
       "    </tr>\n",
       "    <tr>\n",
       "      <th>326</th>\n",
       "      <td>0</td>\n",
       "      <td>41.7</td>\n",
       "      <td>14.7</td>\n",
       "      <td>210.0</td>\n",
       "      <td>4700.0</td>\n",
       "      <td>1</td>\n",
       "      <td>8.12311</td>\n",
       "      <td>-26.44815</td>\n",
       "    </tr>\n",
       "  </tbody>\n",
       "</table>\n",
       "<p>234 rows × 8 columns</p>\n",
       "</div>"
      ],
      "text/plain": [
       "     Island  Culmen Length (mm)  Culmen Depth (mm)  Flipper Length (mm)  \\\n",
       "112       0                39.7               17.7                193.0   \n",
       "85        1                41.3               20.3                194.0   \n",
       "16        2                38.7               19.0                195.0   \n",
       "54        0                34.5               18.1                187.0   \n",
       "14        2                34.6               21.1                198.0   \n",
       "..      ...                 ...                ...                  ...   \n",
       "306       0                43.4               14.4                218.0   \n",
       "165       1                52.0               18.1                201.0   \n",
       "7         2                39.2               19.6                195.0   \n",
       "219       1                50.2               18.7                198.0   \n",
       "326       0                41.7               14.7                210.0   \n",
       "\n",
       "     Body Mass (g)  Sex  Delta 15 N (o/oo)  Delta 13 C (o/oo)  \n",
       "112         3200.0    1            9.02657          -26.06203  \n",
       "85          3550.0    2            9.14863          -26.09635  \n",
       "16          3450.0    1            9.18528          -25.06691  \n",
       "54          2900.0    1            8.41837          -26.54718  \n",
       "14          4400.0    2            8.55583          -25.22588  \n",
       "..             ...  ...                ...                ...  \n",
       "306         4600.0    1            8.23468          -26.18599  \n",
       "165         4050.0    2            9.02330          -24.38933  \n",
       "7           4675.0    2            9.46060          -24.89958  \n",
       "219         3775.0    1            9.39305          -24.25255  \n",
       "326         4700.0    1            8.12311          -26.44815  \n",
       "\n",
       "[234 rows x 8 columns]"
      ]
     },
     "execution_count": 37,
     "metadata": {},
     "output_type": "execute_result"
    }
   ],
   "source": [
    "X_train\n",
    "\n",
    "# Sex: 1-Female,  2-Male\n",
    "# Island: 0-Biscoe,  1-Dream,  2-Torgersen\n",
    "# Species: 0-Adelie,  1-Chinstrap,  2-Gentoo"
   ]
  },
  {
   "cell_type": "code",
   "execution_count": 38,
   "id": "bfc3edce-c6c0-42dc-8ebf-4c30529aebd2",
   "metadata": {},
   "outputs": [
    {
     "data": {
      "text/plain": [
       "112    0\n",
       "85     0\n",
       "16     0\n",
       "54     0\n",
       "14     0\n",
       "      ..\n",
       "306    2\n",
       "165    1\n",
       "7      0\n",
       "219    1\n",
       "326    2\n",
       "Name: Species, Length: 234, dtype: int64"
      ]
     },
     "execution_count": 38,
     "metadata": {},
     "output_type": "execute_result"
    }
   ],
   "source": [
    "y_train"
   ]
  },
  {
   "cell_type": "code",
   "execution_count": 39,
   "id": "bcae9b23-aab5-4867-bd31-9681eb92a977",
   "metadata": {
    "scrolled": true
   },
   "outputs": [
    {
     "data": {
      "text/plain": [
       "0.9913968547641072"
      ]
     },
     "execution_count": 39,
     "metadata": {},
     "output_type": "execute_result"
    }
   ],
   "source": [
    "from sklearn.linear_model import LogisticRegression\n",
    "from sklearn.model_selection import cross_val_score\n",
    "\n",
    "# Calculating cross validation score including all columns\n",
    "LR = LogisticRegression(max_iter=10000)\n",
    "cross_val_score(LR, X_train, y_train, cv = 5).mean()"
   ]
  },
  {
   "cell_type": "markdown",
   "id": "86ead4ea-305c-42e9-b9a9-9826dea4904e",
   "metadata": {},
   "source": [
    "Discussion:\n",
    "* A very high score, showing that the colns selected are great features to use for prediction of species\n",
    "\n",
    "However...\n",
    "- Our model will only use one qualitative featurea dn two quantitative features\n",
    "- So we will try different combos of three to see best score"
   ]
  },
  {
   "cell_type": "markdown",
   "id": "678ef5cb-e1bf-4af6-8102-831b070f0c25",
   "metadata": {},
   "source": [
    "**Systematic Feature Selection**"
   ]
  },
  {
   "cell_type": "code",
   "execution_count": 42,
   "id": "5ec4ff88-c680-4774-939c-7f69136c2a90",
   "metadata": {},
   "outputs": [],
   "source": [
    "def check_column_score(cols):\n",
    "    \"\"\"\n",
    "    Trains and evaluates a model via cross-validation on the columns of the data\n",
    "    with selected indices\n",
    "    \"\"\"\n",
    "    #print(\"training with columns \" + str(cols))\n",
    "\n",
    "    LR = LogisticRegression(max_iter=10000)\n",
    "    return cross_val_score(LR, X_train[cols], y_train, cv = 5).mean()   "
   ]
  },
  {
   "cell_type": "code",
   "execution_count": 43,
   "id": "cf0317c0-2e84-479b-93c2-8d4a2f233110",
   "metadata": {},
   "outputs": [
    {
     "name": "stdout",
     "output_type": "stream",
     "text": [
      "Best combo is['Sex', 'Culmen Length (mm)', 'Culmen Depth (mm)']\n",
      "Best CV score is 0.97\n"
     ]
    }
   ],
   "source": [
    "combos = [['Island', 'Culmen Length (mm)', 'Culmen Depth (mm)'],\n",
    "          ['Island', 'Culmen Length (mm)', 'Flipper Length (mm)'],\n",
    "          ['Island', 'Culmen Length (mm)', 'Body Mass (g)'],\n",
    "          ['Island', 'Culmen Length (mm)', 'Delta 15 N (o/oo)'],\n",
    "          ['Island', 'Culmen Length (mm)', 'Delta 13 C (o/oo)'],\n",
    "          ['Island', 'Culmen Depth (mm)', 'Flipper Length (mm)'],\n",
    "          ['Island', 'Culmen Depth (mm)', 'Body Mass (g)'],\n",
    "          ['Island', 'Culmen Depth (mm)', 'Delta 15 N (o/oo)'],\n",
    "          ['Island', 'Culmen Depth (mm)', 'Delta 13 C (o/oo)'],\n",
    "          ['Island', 'Flipper Length (mm)', 'Body Mass (g)'],\n",
    "          ['Island', 'Flipper Length (mm)', 'Delta 15 N (o/oo)'],\n",
    "          ['Island', 'Flipper Length (mm)', 'Delta 13 C (o/oo)'],\n",
    "          ['Island', 'Body Mass (g)', 'Delta 15 N (o/oo)'],\n",
    "          ['Island', 'Body Mass (g)', 'Delta 13 C (o/oo)'],\n",
    "          ['Island', 'Delta 15 N (o/oo)', 'Delta 13 C (o/oo)'],\n",
    "          \n",
    "          ['Sex', 'Culmen Length (mm)', 'Culmen Depth (mm)'],\n",
    "          ['Sex', 'Culmen Length (mm)', 'Flipper Length (mm)'],\n",
    "          ['Sex', 'Culmen Length (mm)', 'Body Mass (g)'],\n",
    "          ['Sex', 'Culmen Length (mm)', 'Delta 15 N (o/oo)'],\n",
    "          ['Sex', 'Culmen Length (mm)', 'Delta 13 C (o/oo)'],\n",
    "          ['Sex', 'Culmen Length (mm)', 'Delta 15 N (o/oo)'],\n",
    "          ['Sex', 'Culmen Length (mm)', 'Delta 13 C (o/oo)'],\n",
    "          ['Sex', 'Culmen Depth (mm)', 'Flipper Length (mm)'],\n",
    "          ['Sex', 'Culmen Depth (mm)', 'Body Mass (g)'],\n",
    "          ['Sex', 'Culmen Depth (mm)', 'Delta 15 N (o/oo)'],\n",
    "          ['Sex', 'Culmen Depth (mm)', 'Delta 13 C (o/oo)'],\n",
    "          ['Sex', 'Flipper Length (mm)', 'Body Mass (g)'],\n",
    "          ['Sex', 'Flipper Length (mm)', 'Delta 15 N (o/oo)'],\n",
    "          ['Sex', 'Flipper Length (mm)', 'Delta 13 C (o/oo)'],\n",
    "          ['Sex', 'Body Mass (g)', 'Delta 15 N (o/oo)'],\n",
    "          ['Sex', 'Body Mass (g)', 'Delta 13 C (o/oo)'],\n",
    "          ['Sex', 'Delta 15 N (o/oo)', 'Delta 13 C (o/oo)']]\n",
    "\n",
    "best_score = 0\n",
    "best_combo = []\n",
    "\n",
    "# goes thru each combination and compares to get best score and best combinations of features\n",
    "for cols in combos: \n",
    "    x = check_column_score(cols)\n",
    "    if x > best_score:\n",
    "        best_score = x\n",
    "        best_combo = cols\n",
    "\n",
    "print(\"Best combo is\" + str(best_combo))\n",
    "print(\"Best CV score is \" + str(np.round(best_score, 3)))"
   ]
  },
  {
   "cell_type": "markdown",
   "id": "19a491f0-2545-4a39-8a96-207fdedf8875",
   "metadata": {},
   "source": [
    "**Sasha best combo**\n",
    "* Columns: ['Sex', 'Culmen Length (mm)', 'Body Mass (g)'] -> CV score: 0.983\n",
    "\n",
    "**Michael best combo**\n",
    "* Columns: ['Island', 'Culmen Length (mm)', 'Culmen Depth (mm)'] -> CV score: 0.987"
   ]
  },
  {
   "cell_type": "code",
   "execution_count": null,
   "id": "5052461c-de0b-48ed-8c6e-2535771be8ed",
   "metadata": {},
   "outputs": [],
   "source": []
  },
  {
   "cell_type": "markdown",
   "id": "ceb8b738-8fc1-4428-b027-9a09f0effaa6",
   "metadata": {},
   "source": [
    "**Discussion:**\n",
    "* Refering back to our exploratory data, we ultimately chose island, culmen length, culmen depth.\n",
    "    * Figure 1 shows that island is highly indicative of species (refer to figure 1 discussion)\n",
    "    * Figure 2 demonstrated that there is a pattern in island location on Culmen length and depth values, and these columns may be a good predictor of Species for our future models. This figure also shows the difference between Female and Male penguins is not significant enough to be a strong predictor as the patterns between the two graphs appear similar besides the individual clusters of Dream and Biscoe in male vs Torgerson and Dream in female.\n",
    "\n",
    "    * ***ADDITIONAL COMMENTS ON GRAPHS***\n",
    "      From the Flipper Length by Species boxplot, the flipper length of adeline and chinstrap species are quite close, which suggests that flipper length is not optimal for species prediction. \n",
    " \n",
    "* To reaffirm our choices, we see that the cross validation score for ['Island', 'Culmen Length (mm)', 'Culmen Depth (mm)'] is really high (with a score higher than 0.9 in all cases) in all group member's systematic feature selection regardless of whether it is the best combo."
   ]
  },
  {
   "cell_type": "markdown",
   "id": "ea8ddcd0-72ac-4dcd-80c5-0c99e8a0b7b1",
   "metadata": {},
   "source": [
    "## Modeling"
   ]
  },
  {
   "cell_type": "code",
   "execution_count": 47,
   "id": "97edf74b-8db2-4a14-a8e1-b7b148c68b8e",
   "metadata": {
    "scrolled": true
   },
   "outputs": [
    {
     "data": {
      "text/html": [
       "<div>\n",
       "<style scoped>\n",
       "    .dataframe tbody tr th:only-of-type {\n",
       "        vertical-align: middle;\n",
       "    }\n",
       "\n",
       "    .dataframe tbody tr th {\n",
       "        vertical-align: top;\n",
       "    }\n",
       "\n",
       "    .dataframe thead th {\n",
       "        text-align: right;\n",
       "    }\n",
       "</style>\n",
       "<table border=\"1\" class=\"dataframe\">\n",
       "  <thead>\n",
       "    <tr style=\"text-align: right;\">\n",
       "      <th></th>\n",
       "      <th>Island</th>\n",
       "      <th>Culmen Length (mm)</th>\n",
       "      <th>Culmen Depth (mm)</th>\n",
       "      <th>Flipper Length (mm)</th>\n",
       "      <th>Body Mass (g)</th>\n",
       "      <th>Sex</th>\n",
       "      <th>Delta 15 N (o/oo)</th>\n",
       "      <th>Delta 13 C (o/oo)</th>\n",
       "    </tr>\n",
       "  </thead>\n",
       "  <tbody>\n",
       "    <tr>\n",
       "      <th>112</th>\n",
       "      <td>0</td>\n",
       "      <td>39.7</td>\n",
       "      <td>17.7</td>\n",
       "      <td>193.0</td>\n",
       "      <td>3200.0</td>\n",
       "      <td>1</td>\n",
       "      <td>9.02657</td>\n",
       "      <td>-26.06203</td>\n",
       "    </tr>\n",
       "    <tr>\n",
       "      <th>85</th>\n",
       "      <td>1</td>\n",
       "      <td>41.3</td>\n",
       "      <td>20.3</td>\n",
       "      <td>194.0</td>\n",
       "      <td>3550.0</td>\n",
       "      <td>2</td>\n",
       "      <td>9.14863</td>\n",
       "      <td>-26.09635</td>\n",
       "    </tr>\n",
       "    <tr>\n",
       "      <th>16</th>\n",
       "      <td>2</td>\n",
       "      <td>38.7</td>\n",
       "      <td>19.0</td>\n",
       "      <td>195.0</td>\n",
       "      <td>3450.0</td>\n",
       "      <td>1</td>\n",
       "      <td>9.18528</td>\n",
       "      <td>-25.06691</td>\n",
       "    </tr>\n",
       "    <tr>\n",
       "      <th>54</th>\n",
       "      <td>0</td>\n",
       "      <td>34.5</td>\n",
       "      <td>18.1</td>\n",
       "      <td>187.0</td>\n",
       "      <td>2900.0</td>\n",
       "      <td>1</td>\n",
       "      <td>8.41837</td>\n",
       "      <td>-26.54718</td>\n",
       "    </tr>\n",
       "    <tr>\n",
       "      <th>14</th>\n",
       "      <td>2</td>\n",
       "      <td>34.6</td>\n",
       "      <td>21.1</td>\n",
       "      <td>198.0</td>\n",
       "      <td>4400.0</td>\n",
       "      <td>2</td>\n",
       "      <td>8.55583</td>\n",
       "      <td>-25.22588</td>\n",
       "    </tr>\n",
       "    <tr>\n",
       "      <th>...</th>\n",
       "      <td>...</td>\n",
       "      <td>...</td>\n",
       "      <td>...</td>\n",
       "      <td>...</td>\n",
       "      <td>...</td>\n",
       "      <td>...</td>\n",
       "      <td>...</td>\n",
       "      <td>...</td>\n",
       "    </tr>\n",
       "    <tr>\n",
       "      <th>306</th>\n",
       "      <td>0</td>\n",
       "      <td>43.4</td>\n",
       "      <td>14.4</td>\n",
       "      <td>218.0</td>\n",
       "      <td>4600.0</td>\n",
       "      <td>1</td>\n",
       "      <td>8.23468</td>\n",
       "      <td>-26.18599</td>\n",
       "    </tr>\n",
       "    <tr>\n",
       "      <th>165</th>\n",
       "      <td>1</td>\n",
       "      <td>52.0</td>\n",
       "      <td>18.1</td>\n",
       "      <td>201.0</td>\n",
       "      <td>4050.0</td>\n",
       "      <td>2</td>\n",
       "      <td>9.02330</td>\n",
       "      <td>-24.38933</td>\n",
       "    </tr>\n",
       "    <tr>\n",
       "      <th>7</th>\n",
       "      <td>2</td>\n",
       "      <td>39.2</td>\n",
       "      <td>19.6</td>\n",
       "      <td>195.0</td>\n",
       "      <td>4675.0</td>\n",
       "      <td>2</td>\n",
       "      <td>9.46060</td>\n",
       "      <td>-24.89958</td>\n",
       "    </tr>\n",
       "    <tr>\n",
       "      <th>219</th>\n",
       "      <td>1</td>\n",
       "      <td>50.2</td>\n",
       "      <td>18.7</td>\n",
       "      <td>198.0</td>\n",
       "      <td>3775.0</td>\n",
       "      <td>1</td>\n",
       "      <td>9.39305</td>\n",
       "      <td>-24.25255</td>\n",
       "    </tr>\n",
       "    <tr>\n",
       "      <th>326</th>\n",
       "      <td>0</td>\n",
       "      <td>41.7</td>\n",
       "      <td>14.7</td>\n",
       "      <td>210.0</td>\n",
       "      <td>4700.0</td>\n",
       "      <td>1</td>\n",
       "      <td>8.12311</td>\n",
       "      <td>-26.44815</td>\n",
       "    </tr>\n",
       "  </tbody>\n",
       "</table>\n",
       "<p>234 rows × 8 columns</p>\n",
       "</div>"
      ],
      "text/plain": [
       "     Island  Culmen Length (mm)  Culmen Depth (mm)  Flipper Length (mm)  \\\n",
       "112       0                39.7               17.7                193.0   \n",
       "85        1                41.3               20.3                194.0   \n",
       "16        2                38.7               19.0                195.0   \n",
       "54        0                34.5               18.1                187.0   \n",
       "14        2                34.6               21.1                198.0   \n",
       "..      ...                 ...                ...                  ...   \n",
       "306       0                43.4               14.4                218.0   \n",
       "165       1                52.0               18.1                201.0   \n",
       "7         2                39.2               19.6                195.0   \n",
       "219       1                50.2               18.7                198.0   \n",
       "326       0                41.7               14.7                210.0   \n",
       "\n",
       "     Body Mass (g)  Sex  Delta 15 N (o/oo)  Delta 13 C (o/oo)  \n",
       "112         3200.0    1            9.02657          -26.06203  \n",
       "85          3550.0    2            9.14863          -26.09635  \n",
       "16          3450.0    1            9.18528          -25.06691  \n",
       "54          2900.0    1            8.41837          -26.54718  \n",
       "14          4400.0    2            8.55583          -25.22588  \n",
       "..             ...  ...                ...                ...  \n",
       "306         4600.0    1            8.23468          -26.18599  \n",
       "165         4050.0    2            9.02330          -24.38933  \n",
       "7           4675.0    2            9.46060          -24.89958  \n",
       "219         3775.0    1            9.39305          -24.25255  \n",
       "326         4700.0    1            8.12311          -26.44815  \n",
       "\n",
       "[234 rows x 8 columns]"
      ]
     },
     "execution_count": 47,
     "metadata": {},
     "output_type": "execute_result"
    }
   ],
   "source": [
    "# data already preprocessed\n",
    "# for refresher\n",
    "X_train"
   ]
  },
  {
   "cell_type": "markdown",
   "id": "fee646c5-a391-49ae-ac72-376d9d2ddb2b",
   "metadata": {},
   "source": [
    "### Logistic Regression"
   ]
  },
  {
   "cell_type": "markdown",
   "id": "1ff8a13a-cff3-48d2-a354-ea4d13e7fa4e",
   "metadata": {},
   "source": [
    "**Checking scores with different complexity and different cv folds**"
   ]
  },
  {
   "cell_type": "code",
   "execution_count": 50,
   "id": "1c43e593-7696-4d4d-b65d-9e0dfaf0a079",
   "metadata": {},
   "outputs": [
    {
     "name": "stdout",
     "output_type": "stream",
     "text": [
      "complexity: 1\n",
      "cv=3: 0.9914529914529915\n",
      "cv=5: 0.9913968547641072\n",
      "cv=10: 0.991485507246377\n",
      "\n",
      "complexity: 50\n",
      "cv=3: 0.9914529914529915\n",
      "cv=5: 0.9913968547641072\n",
      "cv=10: 0.991485507246377\n",
      "\n",
      "complexity: 100\n",
      "cv=3: 0.9914529914529915\n",
      "cv=5: 0.9913968547641072\n",
      "cv=10: 0.991485507246377\n",
      "\n"
     ]
    }
   ],
   "source": [
    "from sklearn.linear_model import LogisticRegression\n",
    "\n",
    "for c in [1, 50, 100]:\n",
    "    print(f'complexity: {c}')\n",
    "    LR = LogisticRegression(C=c, max_iter=10000)\n",
    "    print(f'cv=3: {cross_val_score(LR, X_train, y_train, cv = 3).mean()}')\n",
    "    print(f'cv=5: {cross_val_score(LR, X_train, y_train, cv = 5).mean()}')\n",
    "    print(f'cv=10: {cross_val_score(LR, X_train, y_train, cv = 10).mean()}\\n')"
   ]
  },
  {
   "cell_type": "markdown",
   "id": "f0481e9c-f7c5-4704-abf3-86caf791b088",
   "metadata": {},
   "source": [
    "****Using complexity of 50 (since all complexity yields equally high score)****"
   ]
  },
  {
   "cell_type": "code",
   "execution_count": 52,
   "id": "7ae98cdb-d2b9-4a92-8e7e-14d77303cf4f",
   "metadata": {},
   "outputs": [
    {
     "data": {
      "text/plain": [
       "1.0"
      ]
     },
     "execution_count": 52,
     "metadata": {},
     "output_type": "execute_result"
    }
   ],
   "source": [
    "LR = LogisticRegression(C=1, max_iter=10000)\n",
    "\n",
    "LR.fit(X_train, y_train)\n",
    "y_train_pred = LR.predict(X_train)\n",
    "y_train_pred\n",
    "\n",
    "from sklearn.metrics import accuracy_score\n",
    "accuracy_score(y_train, y_train_pred)"
   ]
  },
  {
   "cell_type": "code",
   "execution_count": 53,
   "id": "fad22c05-eaae-49bf-adbb-2dd9d88a34be",
   "metadata": {},
   "outputs": [
    {
     "data": {
      "text/plain": [
       "1.0"
      ]
     },
     "execution_count": 53,
     "metadata": {},
     "output_type": "execute_result"
    }
   ],
   "source": [
    "y_test_pred = LR.predict(X_test)\n",
    "y_test_pred\n",
    "\n",
    "from sklearn.metrics import accuracy_score\n",
    "accuracy_score(y_test, y_test_pred)"
   ]
  },
  {
   "cell_type": "markdown",
   "id": "7006131e-97d1-4223-9ebb-17f0d9023b5c",
   "metadata": {},
   "source": [
    "**Key Observations:**\n",
    "* Perfect Training Accuracy:\n",
    "    * Training set prediction accuracy: 1.0 (100%)\n",
    "    * Test set prediction accuracy: 0.99 (99%)"
   ]
  },
  {
   "cell_type": "code",
   "execution_count": 55,
   "id": "d53126a8-8e86-4995-84f0-88bd962dfa7d",
   "metadata": {},
   "outputs": [
    {
     "data": {
      "text/plain": [
       "array([[39,  0,  0],\n",
       "       [ 0, 22,  0],\n",
       "       [ 0,  0, 35]])"
      ]
     },
     "execution_count": 55,
     "metadata": {},
     "output_type": "execute_result"
    }
   ],
   "source": [
    "#Confusion Matrix\n",
    "from sklearn.metrics import confusion_matrix\n",
    "c = confusion_matrix(y_test, y_test_pred)\n",
    "c"
   ]
  },
  {
   "cell_type": "code",
   "execution_count": 56,
   "id": "80709c50-bc11-45b8-b242-de9a82107544",
   "metadata": {},
   "outputs": [
    {
     "data": {
      "image/png": "[encoded data removed]",
      "text/plain": [
       "<Figure size 800x600 with 2 Axes>"
      ]
     },
     "metadata": {},
     "output_type": "display_data"
    }
   ],
   "source": [
    "from sklearn.metrics import ConfusionMatrixDisplay\n",
    "disp = ConfusionMatrixDisplay(confusion_matrix=c, display_labels=['Adelie', 'Chinstrap', 'Gentoo'])\n",
    "\n",
    "# Plot the confusion matrix\n",
    "fig, ax = plt.subplots(figsize=(8, 6))\n",
    "disp.plot(ax=ax, cmap='viridis')\n",
    "ax.set_title(\"Confusion Matrix Display\")\n",
    "ax.set_xlabel(\"Predicted Label\")\n",
    "ax.set_ylabel(\"True Label\")\n",
    "plt.show()"
   ]
  },
  {
   "cell_type": "code",
   "execution_count": 57,
   "id": "96167de7-afb2-42a0-95f7-ddc7d99977eb",
   "metadata": {},
   "outputs": [
    {
     "data": {
      "text/plain": [
       "(array([], dtype=int64), Series([], Name: Species, dtype: int64))"
      ]
     },
     "execution_count": 57,
     "metadata": {},
     "output_type": "execute_result"
    }
   ],
   "source": [
    "mistakes = X_test[y_test != y_test_pred]\n",
    "mistake_labels = y_test[y_test != y_test_pred]\n",
    "mistake_preds = y_test_pred[y_test != y_test_pred]\n",
    "\n",
    "mistake_preds, mistake_labels"
   ]
  },
  {
   "cell_type": "markdown",
   "id": "f285a316-4463-4f74-aac9-9bae330a2dbd",
   "metadata": {},
   "source": [
    "**The confusion matrix shows perfect classification**\n",
    "* No misclassifications across the three species (Adelie, Chinstrap, Gentoo)\n",
    "* Total test set samples:\n",
    "    * Adelie: 42\n",
    "    * Chinstrap: 18\n",
    "    * Gentoo: 38"
   ]
  },
  {
   "cell_type": "markdown",
   "id": "efb9f4b6-f23c-4c7c-be57-da9174e34af2",
   "metadata": {},
   "source": [
    "**Decision Regions**"
   ]
  },
  {
   "cell_type": "code",
   "execution_count": 60,
   "id": "951a2fc1-8d25-40e5-90c9-e80885527f90",
   "metadata": {},
   "outputs": [],
   "source": [
    "def plot_regions(c, X, y, group):\n",
    "    '''\n",
    "    Visualizes decision regions of a classifier of 2D data, which is why Island will have to be grouped later on; this function fits the classifier to the data, predicts class labels, and plots the decisions and the original points\n",
    "\n",
    "    Parameters: \n",
    "    - c: classifier\n",
    "    - X: pandas df with predictor columns\n",
    "    - Y: array of target y values\n",
    "    - group: the dataframe that we are plotting on (used to identify island) \n",
    "    '''\n",
    "    c.fit(X, y)\n",
    "\n",
    "    x0 = X[\"Culmen Length (mm)\"]\n",
    "    x1 = X[\"Culmen Depth (mm)\"]\n",
    "\n",
    "    grid_x = np.linspace(x0.min(), x0.max(), 501) \n",
    "    grid_y = np.linspace(x1.min(), x1.max(), 501) \n",
    "\n",
    "    xx, yy = np.meshgrid(grid_x, grid_y)\n",
    "\n",
    "    XX = xx.ravel()\n",
    "    YY = yy.ravel()\n",
    "    \n",
    "    p = c.predict(np.c_[XX, YY])\n",
    "    p = p.reshape(xx.shape)\n",
    "\n",
    "    # Create the plot\n",
    "    fig, ax = plt.subplots(1)\n",
    "    \n",
    "    # Plot decision regions with transparency\n",
    "    unique_species = np.unique(y)\n",
    "    for species in unique_species:\n",
    "        # Get a mask for the current species in the decision boundary\n",
    "        species_mask = (p == species)\n",
    "        # Plot the decision region for this species\n",
    "        ax.contourf(xx, yy, species_mask, levels=[0.5, 1.5], colors=[plt.cm.jet(unique_species.tolist().index(species)/len(unique_species))], alpha=0.2)\n",
    "    \n",
    "    # Scatter plot of actual data points\n",
    "    scatter = ax.scatter(x0, x1, c=y, cmap=\"jet\", label=unique_species)\n",
    "\n",
    "    # Add legend\n",
    "    legend1 = ax.legend(scatter.legend_elements()[0], unique_species, title=\"Species\", loc=\"best\")\n",
    "    ax.add_artist(legend1)\n",
    "\n",
    "    # Set island name as title\n",
    "    if group['Island'].iloc[0] == 0:\n",
    "        title = 'Biscoe'\n",
    "    elif group['Island'].iloc[0] == 1:\n",
    "        title = 'Dream'\n",
    "    else:\n",
    "        title = 'Torgersen'\n",
    "        \n",
    "    ax.set(xlabel=\"Culmen Length (mm)\", ylabel=\"Culmen Depth (mm)\", title=title)"
   ]
  },
  {
   "cell_type": "code",
   "execution_count": 66,
   "id": "da47ad22-1a55-4c20-8cc4-6fe3b9504f47",
   "metadata": {},
   "outputs": [
    {
     "name": "stdout",
     "output_type": "stream",
     "text": [
      "Skipping Island 2: only one class present.\n"
     ]
    },
    {
     "name": "stderr",
     "output_type": "stream",
     "text": [
      "/opt/anaconda3/lib/python3.10/site-packages/sklearn/base.py:493: UserWarning: X does not have valid feature names, but LogisticRegression was fitted with feature names\n",
      "  warnings.warn(\n",
      "/opt/anaconda3/lib/python3.10/site-packages/sklearn/base.py:493: UserWarning: X does not have valid feature names, but LogisticRegression was fitted with feature names\n",
      "  warnings.warn(\n",
      "/var/folders/6h/kd86xz3j3nn90dk4c0gz2mf40000gn/T/ipykernel_11817/635865188.py:16: DeprecationWarning: DataFrameGroupBy.apply operated on the grouping columns. This behavior is deprecated, and in a future version of pandas the grouping columns will be excluded from the operation. Either pass `include_groups=False` to exclude the groupings or explicitly select the grouping columns after groupby to silence this warning.\n",
      "  data_train.groupby('Island').apply(plot_island)\n"
     ]
    },
    {
     "data": {
      "text/html": [
       "<div>\n",
       "<style scoped>\n",
       "    .dataframe tbody tr th:only-of-type {\n",
       "        vertical-align: middle;\n",
       "    }\n",
       "\n",
       "    .dataframe tbody tr th {\n",
       "        vertical-align: top;\n",
       "    }\n",
       "\n",
       "    .dataframe thead th {\n",
       "        text-align: right;\n",
       "    }\n",
       "</style>\n",
       "<table border=\"1\" class=\"dataframe\">\n",
       "  <thead>\n",
       "    <tr style=\"text-align: right;\">\n",
       "      <th></th>\n",
       "    </tr>\n",
       "  </thead>\n",
       "  <tbody>\n",
       "  </tbody>\n",
       "</table>\n",
       "</div>"
      ],
      "text/plain": [
       "Empty DataFrame\n",
       "Columns: []\n",
       "Index: []"
      ]
     },
     "execution_count": 66,
     "metadata": {},
     "output_type": "execute_result"
    },
    {
     "data": {
      "image/png": "[encoded data removed]",
      "text/plain": [
       "<Figure size 640x480 with 1 Axes>"
      ]
     },
     "metadata": {},
     "output_type": "display_data"
    },
    {
     "data": {
      "image/png": "[encoded data removed]",
      "text/plain": [
       "<Figure size 640x480 with 1 Axes>"
      ]
     },
     "metadata": {},
     "output_type": "display_data"
    }
   ],
   "source": [
    "from sklearn.linear_model import LogisticRegression\n",
    "\n",
    "LR = LogisticRegression(C=50, max_iter=10000)\n",
    "\n",
    "def plot_island(group):\n",
    "    X_group = group[[\"Culmen Length (mm)\", \"Culmen Depth (mm)\"]]\n",
    "    y_group = group[\"Species\"]\n",
    "    \n",
    "    if y_group.nunique() < 2:\n",
    "        print(f\"Skipping Island {group['Island'].iloc[0]}: only one class present.\")\n",
    "        return\n",
    "    \n",
    "    plot_regions(LR, X_group, y_group, group)\n",
    "\n",
    "data_train = pd.concat([X_train, y_train], axis=1)\n",
    "data_train.groupby('Island').apply(plot_island)\n",
    "\n",
    "# Species: 0-Adelie,  1-Chinstrap,  2-Gentoo"
   ]
  },
  {
   "cell_type": "markdown",
   "id": "379b23e4-4f49-4baa-83fc-4a7c3e75bad0",
   "metadata": {},
   "source": [
    "Specification: 0-Adelie,  1-Chinstrap,  2-Gentoo\n",
    "\n",
    "**Decision Region:**\n",
    "* While there are three islands, only two plots are shown because only one species exists in the third island\n",
    "* So an error occurs because logistic regression is a classification algorithm that requires at least two different classes to create a meaningful decision boundary. If an island group contains penguins of only one species, the algorithm cannot train a model.\n",
    "* All species fit within its own regions, confirming the accuracy score of 1.0"
   ]
  },
  {
   "cell_type": "markdown",
   "id": "a5d1ecf5-b537-439e-872d-965773585007",
   "metadata": {},
   "source": [
    "**Overall Performance of the logistic regression model:**\n",
    "* The model shows extremely high accuracy across different validation strategies\n",
    "* The selected features (Island, Culmen Length, Culmen Depth) provide excellent discrimination between penguin species\n",
    "* The perfect classification suggests very distinct physical characteristics between species\n",
    "\n",
    "**Potential Limitations**\n",
    "* Extremely high accuracy might indicate potential overfitting\n",
    "* Small dataset size (231 training samples)"
   ]
  },
  {
   "cell_type": "markdown",
   "id": "598c6ca3-c85e-478d-9c40-ae2aeaf7bfdf",
   "metadata": {},
   "source": [
    "------------------------------------------------------"
   ]
  },
  {
   "cell_type": "markdown",
   "id": "86643e26-0802-4cac-8ae3-c3215cb6060d",
   "metadata": {},
   "source": [
    "### KMNeighbors Classifier Model"
   ]
  },
  {
   "cell_type": "code",
   "execution_count": null,
   "id": "c26243dd-c5fb-4a48-ab5a-130fb6f20097",
   "metadata": {},
   "outputs": [],
   "source": [
    "from sklearn.neighbors import KNeighborsClassifier\n",
    "X_train1 = X_train.copy().drop([\"Flipper Length (mm)\", \"Body Mass (g)\", \"Sex\"], axis = 1)\n",
    "\n",
    "# Find the optimal n_neighbors\n",
    "n_neighbors_range = range(1, 21) \n",
    "mean_scores = [] \n",
    "for n in n_neighbors_range:\n",
    "    nn = KNeighborsClassifier(n_neighbors=n)\n",
    "    scores = cross_val_score(nn, X_train1, y_train, cv=10)\n",
    "    mean_scores.append(scores.mean()) \n",
    "best_n = n_neighbors_range[mean_scores.index(max(mean_scores))]\n",
    "best_score = max(mean_scores)\n",
    "best_n\n",
    "#Best_n is 3 (we will use this for our model)\n",
    "\n",
    "#Actual Model with n_neighbors = 3\n",
    "nn = KNeighborsClassifier(n_neighbors=3)\n",
    "nn.fit(X_train1,y_train)\n",
    "print(nn.score(X_train1,y_train))\n",
    "#Score on training data is approximately 98.6% \n",
    "\n",
    "#Cross Validation\n",
    "scores = cross_val_score(nn, X_train1, y_train, cv=10)\n",
    "print(\"Cross-Validation Scores:\", scores)\n",
    "print(\"Mean Accuracy:\", scores.mean())\n",
    "#Cross validation scores is on average 98.7%"
   ]
  },
  {
   "cell_type": "code",
   "execution_count": null,
   "id": "a17ffd24-131c-483b-8d7d-e383df9daadf",
   "metadata": {},
   "outputs": [],
   "source": [
    "X_test1 = X_test.copy().drop([\"Flipper Length (mm)\", \"Body Mass (g)\", \"Sex\"], axis = 1) #drop proper columbs\n",
    "y_test_pred = nn.predict(X_test1) \n",
    "\n",
    "from sklearn.metrics import confusion_matrix\n",
    "c = confusion_matrix(y_test, y_test_pred)\n",
    "print(c)\n",
    "#Confusion Matrix is quite good - only 2 incorrect\n",
    "\n",
    "from sklearn.metrics import accuracy_score\n",
    "accuracy_score(y_test, y_test_pred)\n",
    "#Accuracy Score is approximately 99%"
   ]
  },
  {
   "cell_type": "code",
   "execution_count": null,
   "id": "bc8369ef-efda-4581-92d9-629befecf4be",
   "metadata": {},
   "outputs": [],
   "source": [
    "from sklearn.metrics import ConfusionMatrixDisplay\n",
    "\n",
    "disp = ConfusionMatrixDisplay(confusion_matrix=c, display_labels=[\"Adelie\", \"Chinstrap\", \"Gentoo\"])\n",
    "disp.plot(cmap='viridis')\n",
    "plt.title(\"Confusion Matrix Display\")\n",
    "plt.show()"
   ]
  },
  {
   "cell_type": "markdown",
   "id": "0ffbe92d-3cbe-485c-a5ae-4ea8c5b6aca9",
   "metadata": {},
   "source": [
    "1 confusion on Adelie, and 1 confusion on Chinstrap"
   ]
  },
  {
   "cell_type": "code",
   "execution_count": null,
   "id": "f66f1c57-837e-467f-8259-9808f1c4b3b7",
   "metadata": {},
   "outputs": [],
   "source": [
    "mistakes = X_test1[y_test != y_test_pred]\n",
    "mistake_labels = y_test[y_test != y_test_pred]\n",
    "mistake_preds = y_test_pred[y_test != y_test_pred]\n",
    "print(mistakes)\n",
    "#Mistakes were only falsely predicted in rows 182, 43"
   ]
  },
  {
   "cell_type": "code",
   "execution_count": null,
   "id": "9a8229a8-20a2-4279-b0d0-d315a58cf5a7",
   "metadata": {},
   "outputs": [],
   "source": [
    "from sklearn.neighbors import KNeighborsClassifier\n",
    "from sklearn.preprocessing import StandardScaler\n",
    "import pandas as pd\n",
    "import numpy as np\n",
    "import matplotlib.pyplot as plt\n",
    "\n",
    "def plot_regions(c, X, y): \n",
    "    '''\n",
    "    Visualizes decision regions of a classifier of 2D data, which is why Island will have to be grouped later on; this function fits the classifier to the data, predicts class labels, and plots the decisions and the original points\n",
    "\n",
    "    Parameters: \n",
    "    - c: classifier\n",
    "    - X: pandas df with predictor columns\n",
    "    - Y: array of target y values\n",
    "    '''\n",
    "    c.fit(X,y)\n",
    "    x0 = X[\"Culmen Length (mm)\"]\n",
    "    x1 = X[\"Culmen Depth (mm)\"]\n",
    "    grid_x = np.linspace(x0.min(), x0.max(), 501)\n",
    "    grid_y = np.linspace(x1.min(), x1.max(), 501)\n",
    "    xx, yy = np.meshgrid(grid_x, grid_y)\n",
    "    XX = xx.ravel()\n",
    "    YY = yy.ravel()\n",
    "    p = c.predict(np.c_[XX,YY])\n",
    "    p = p.reshape(xx.shape)\n",
    "    fig,ax = plt.subplots(1, figsize=(8,6))\n",
    "    ax.contourf(xx,yy,p,cmap = \"jet\", alpha = 0.2)\n",
    "    ax.scatter (x0, x1, c=y, cmap = \"jet\", edgecolor = \"k\")\n",
    "    ax.set(xlabel = \"Culmen Length (mm)\", ylabel = \"Culmen Depth (mm)\")\n",
    "    plt.title(f\"Decision Regions for {type(c).__name__}\")\n",
    "    plt.show()\n",
    "\n",
    "def plot_island_nn(nn, group): \n",
    "    '''\n",
    "    Plots decision boundaries  in 2D for nearest neighbor classifier using the data provided (penguins)\n",
    "\n",
    "    Parameters: \n",
    "    - nn: sklearn.neighbors.KNeighborsClassifier\n",
    "    - group: pandas data frame with Culmen Length, Depth and Species columns\n",
    "    '''\n",
    "    scaler = StandardScaler()\n",
    "    X_group = group[[\"Culmen Length (mm)\", \"Culmen Depth (mm)\"]]\n",
    "    X_group_scaled = scaler.fit_transform(X_group)\n",
    "    y_group = group[\"Species\"]\n",
    "    plot_regions(nn, pd.DataFrame(X_group_scaled, columns = X_group.columns), y_group)\n",
    "\n",
    "data_train_nn = pd.concat([X_train, pd.Series(y_train, name=\"Species\")], axis=1)\n",
    "data_train_nn.groupby(\"Island\").apply(lambda group: plot_island_nn(nn, group))"
   ]
  },
  {
   "cell_type": "markdown",
   "id": "e7a2b90b-6ce0-4dd0-92be-a7e2d06933dc",
   "metadata": {},
   "source": [
    "Specification: \n",
    "0 - Adelia, 1 - Chinstrap, 2 - Gentoo \n",
    "\n",
    "Confusion Matrix: This shows almost perfect classification, with two incorrectly predicted from total sample sizes of Adelie 42, Chinstrap 18, and Gentoo 38.\n",
    "\n",
    "**Decision Region:** \n",
    "* The first plot demonstrates the decision region for the Biscoe Island between Adelie and Gentoo. \n",
    "* The second plot demonstrates the decision region for the Dream Island between Adelie and Chinstrap. \n",
    "* The third plot demonstrates the Decision Region for the Torgenson Island, which only has Adelie species, which is demonstrated here. \n",
    "\n",
    "**Overall Performance of the KNeighborsClassifier Model:**\n",
    "* The model demonstrates relatively high accuracy through cross-validation and the confusion matrix. There were two mistakes on the unseen test data as although the model had a score of approximately 99% on the training data, it did not perfectly predict test data. This is a positive finding as it shows that the data fit to the training data. \n",
    "* The selected features that were good predictors were Island, Culmen Length, and Culmen Depth. "
   ]
  },
  {
   "cell_type": "markdown",
   "id": "8b35b6ae-dccc-42ae-a372-62cc8815f235",
   "metadata": {},
   "source": [
    "-------------------------------------------------------"
   ]
  },
  {
   "cell_type": "markdown",
   "id": "23f9dd53-a21e-4d53-bde3-cc71da97f4ab",
   "metadata": {},
   "source": [
    "### Random Forrest"
   ]
  },
  {
   "cell_type": "code",
   "execution_count": null,
   "id": "cbdc1c55-3881-4415-a8de-e7b6e85e58ad",
   "metadata": {},
   "outputs": [],
   "source": [
    "from sklearn.model_selection import GridSearchCV  # Import GridSearchCV for hyperparameter tuning\n",
    "from sklearn.ensemble import RandomForestClassifier\n",
    "from sklearn.metrics import confusion_matrix, ConfusionMatrixDisplay, accuracy_score\n",
    "\n",
    "# Hyperparameter tuning for Random Forest\n",
    "rf_params = {'n_estimators': [50, 100, 200], 'max_depth': [5, 10, None], 'min_samples_split': [2, 5, 10]}\n",
    "\n",
    "# Fit Random Forest model using 'Island' instead of 'Sex'\n",
    "rf_model = GridSearchCV(RandomForestClassifier(random_state=42), rf_params, cv=5)\n",
    "rf_model.fit(X_train[['Island', 'Culmen Length (mm)', 'Culmen Depth (mm)']], y_train)\n",
    "\n",
    "# Best parameters and cross-validation score\n",
    "print(\"Random Forest best parameters:\", rf_model.best_params_)\n",
    "print(\"Random Forest CV score:\", rf_model.best_score_)\n",
    "\n",
    "# Evaluate on test set\n",
    "y_pred_rf = rf_model.predict(X_test[['Island', 'Culmen Length (mm)', 'Culmen Depth (mm)']])\n",
    "rf_accuracy = accuracy_score(y_test, y_pred_rf)\n",
    "print(\"Random Forest Test Accuracy:\", rf_accuracy)\n",
    "\n",
    "# Confusion matrix\n",
    "cm = confusion_matrix(y_test, y_pred_rf)\n",
    "disp = ConfusionMatrixDisplay(confusion_matrix=cm, display_labels=rf_model.classes_)\n",
    "disp.plot(cmap='viridis')\n",
    "plt.title(\"Random Forest Confusion Matrix (Using Island)\")\n",
    "plt.show()\n"
   ]
  },
  {
   "cell_type": "markdown",
   "id": "f1ceedd0-60ca-4aa3-92ab-54fb1ac227f8",
   "metadata": {},
   "source": [
    "**Random Forest Model Disucssion:**\n",
    "Cross-Validation (CV) Score: 0.983\n",
    "The high CV score indicates that the model generalizes well across the training splits, showing consistency in performance.\n",
    "Test Accuracy: 0.979\n",
    "The near-perfect accuracy on the unseen test set reflects the model’s robustness and its ability to effectively learn the patterns in the data.\n",
    "The Random Forest model achieves excellent generalization and accuracy with carefully tuned hyperparameters. The minimal difference between the CV score (0.983) and test accuracy (0.979) suggests low overfitting and strong performance on unseen data. This makes it a reliable model for predicting penguin species."
   ]
  },
  {
   "cell_type": "code",
   "execution_count": null,
   "id": "8e46c932-9baa-45f3-8542-594ea51304bc",
   "metadata": {},
   "outputs": [],
   "source": [
    "#Decision region\n",
    "\n",
    "def plot_regions(c, X, y):\n",
    "    '''\n",
    "    Visualizes decision regions of a classifier of 2D data, which is why Island will have to be grouped later on; this function fits the classifier to the data, predicts class labels, and plots the decisions and the original points\n",
    "\n",
    "    Parameters: \n",
    "    - c: classifier\n",
    "    - X: pandas df with predictor columns\n",
    "    - Y: array of target y values\n",
    "    '''\n",
    "    # Fit the classifier\n",
    "    c.fit(X, y)\n",
    "    \n",
    "    # Generate a grid for predictions\n",
    "    x0 = X[\"Culmen Length (mm)\"]\n",
    "    x1 = X[\"Culmen Depth (mm)\"]\n",
    "    grid_x = np.linspace(x0.min(), x0.max(), 501)\n",
    "    grid_y = np.linspace(x1.min(), x1.max(), 501)\n",
    "    xx, yy = np.meshgrid(grid_x, grid_y)\n",
    "    XX = xx.ravel()\n",
    "    YY = yy.ravel()\n",
    "    \n",
    "    # Create a DataFrame for prediction, preserving feature names\n",
    "    grid_data = pd.DataFrame({\n",
    "        \"Culmen Length (mm)\": XX,\n",
    "        \"Culmen Depth (mm)\": YY\n",
    "    })\n",
    "    \n",
    "    # Predict on the grid\n",
    "    p = c.predict(grid_data)\n",
    "    p = p.reshape(xx.shape)\n",
    "    \n",
    "    # Plot the decision regions\n",
    "    fig, ax = plt.subplots(1, figsize=(8, 6))\n",
    "    ax.contourf(xx, yy, p, cmap=\"jet\", alpha=0.2)\n",
    "    ax.scatter(x0, x1, c=y, cmap=\"jet\", edgecolor=\"k\")\n",
    "    ax.set(xlabel=\"Culmen Length (mm)\", ylabel=\"Culmen Depth (mm)\")\n",
    "    plt.title(f\"Decision Regions for {type(c).__name__}\")\n",
    "    plt.show()\n",
    "\n",
    "\n",
    "def plot_island(model, group):\n",
    "    '''\n",
    "    Plots the decision regions for a given model using a subset of data grouped by an island.\n",
    "\n",
    "    Parameters:\n",
    "    -----------\n",
    "    model : estimator object\n",
    "        A trained machine learning model that implements the `fit` and `predict` methods.\n",
    "    group : DataFrame\n",
    "        A pandas DataFrame containing data for a specific island. It must include:\n",
    "        - \"Culmen Length (mm)\" (float): Quantitative feature 1.\n",
    "        - \"Culmen Depth (mm)\" (float): Quantitative feature 2.\n",
    "        - \"Species\" (categorical): Target labels for the species classification.\n",
    "\n",
    "    Returns:\n",
    "    --------\n",
    "    None\n",
    "        Displays a plot showing decision regions created by the model for the given island group.\n",
    "    '''\n",
    "    X_group = group[[\"Culmen Length (mm)\", \"Culmen Depth (mm)\"]]\n",
    "    y_group = group[\"Species\"]\n",
    "    plot_regions(model, X_group, y_group)\n",
    "\n",
    "\n",
    "# Add species column to X_train for grouping\n",
    "data_train_rf = pd.concat([X_train, y_train.rename(\"Species\")], axis=1)\n",
    "\n",
    "# Visualize decision regions by Island\n",
    "print(\"Random Forest Decision Regions by Island:\")\n",
    "data_train_rf.groupby(\"Island\").apply(lambda group: plot_island(rf_model.best_estimator_, group))\n"
   ]
  },
  {
   "cell_type": "markdown",
   "id": "fc3495a0-dfee-4bae-b09b-9e0abd7df86d",
   "metadata": {},
   "source": [
    "**Decision Region:** The Random Forest creates decision regions with a slightly segmented and rectangular structure due to its tree-based splits.  On Torgersen Island, the regions are straightforward, dominated by a single species (Adelie penguins). On Dream and Biscoe Islands, the regions become more detailed to separate multiple species effectively."
   ]
  },
  {
   "cell_type": "markdown",
   "id": "9fd3b37b-b937-4741-9589-ceb093d43296",
   "metadata": {},
   "source": [
    "--------------------"
   ]
  },
  {
   "cell_type": "markdown",
   "id": "f99bc0c7-3e9a-4741-8680-a0b30cf00013",
   "metadata": {},
   "source": [
    "### Neural Networks Model"
   ]
  },
  {
   "cell_type": "code",
   "execution_count": null,
   "id": "8c6703e6-3352-475f-9e76-50afab5c81ca",
   "metadata": {},
   "outputs": [],
   "source": [
    "from sklearn.preprocessing import StandardScaler\n",
    "from sklearn.neural_network import MLPClassifier\n",
    "\n",
    "\n",
    "# Initialize the scaler\n",
    "scaler = StandardScaler()\n",
    "\n",
    "# Scale the data using Island\n",
    "X_train_scaled = scaler.fit_transform(X_train[['Island', 'Culmen Length (mm)', 'Culmen Depth (mm)']])\n",
    "X_test_scaled = scaler.transform(X_test[['Island', 'Culmen Length (mm)', 'Culmen Depth (mm)']])\n",
    "\n",
    "# Hyperparameter tuning for Neural Network\n",
    "nn_params = {\n",
    "    'hidden_layer_sizes': [(10,), (50,), (100,)], \n",
    "    'alpha': [0.0001, 0.001, 0.01], \n",
    "    'max_iter': [1000],  # Increased max_iter\n",
    "    'learning_rate_init': [0.001, 0.01]  # Learning rate adjustments\n",
    "}\n",
    "\n",
    "# Perform Grid Search\n",
    "nn_model = GridSearchCV(MLPClassifier(random_state=42), nn_params, cv=5)\n",
    "nn_model.fit(X_train_scaled, y_train)\n",
    "\n",
    "# Best parameters and cross-validation score\n",
    "print(\"Neural Network best parameters:\", nn_model.best_params_)\n",
    "print(\"Neural Network CV score:\", nn_model.best_score_)\n",
    "\n",
    "# Evaluate on test set\n",
    "y_pred_nn = nn_model.predict(X_test_scaled)\n",
    "nn_accuracy = accuracy_score(y_test, y_pred_nn)\n",
    "print(\"Neural Network Test Accuracy:\", nn_accuracy)\n",
    "\n",
    "# Confusion matrix\n",
    "cm = confusion_matrix(y_test, y_pred_nn)\n",
    "disp = ConfusionMatrixDisplay(confusion_matrix=cm, display_labels=nn_model.classes_)\n",
    "disp.plot(cmap='viridis')\n",
    "plt.title(\"Neural Network Confusion Matrix (Using Island)\")\n",
    "plt.show()\n"
   ]
  },
  {
   "cell_type": "markdown",
   "id": "a6939681-7f9f-4b9a-adc7-461a9d1ff5fd",
   "metadata": {},
   "source": [
    "**Neural Network Model Discussion:**\n",
    "Cross-Validation Score: 0.983\n",
    "This high CV score indicates the model generalizes well across training splits.\n",
    "Test Accuracy: 1.0\n",
    "Perfect accuracy on the unseen test set highlights the model’s ability to learn the data patterns effectively. The Neural Network achieves near-perfect generalization and test performance. The high CV score combined with 100% test accuracy suggests the model captures the relationship between the features and species with exceptional precision. "
   ]
  },
  {
   "cell_type": "code",
   "execution_count": null,
   "id": "0851d812-9d5d-430a-b09e-05ef4ba84380",
   "metadata": {},
   "outputs": [],
   "source": [
    "#Decision Regions \n",
    "\n",
    "# Neural Network requires scaled data\n",
    "def plot_island_nn(nn_model, group):\n",
    "    \"\"\"\n",
    "    Plots the decision regions for a Neural Network model using scaled features \n",
    "    for a specific island group.\n",
    "\n",
    "    Parameters:\n",
    "    -----------\n",
    "    nn_model : GridSearchCV or estimator object\n",
    "        A trained neural network model, typically returned by GridSearchCV. \n",
    "        The `best_estimator_` attribute is used to access the final fitted model.\n",
    "    group : DataFrame\n",
    "        A pandas DataFrame containing data for a specific island. It must include:\n",
    "        - \"Culmen Length (mm)\" (float): Quantitative feature 1.\n",
    "        - \"Culmen Depth (mm)\" (float): Quantitative feature 2.\n",
    "        - \"Species\" (categorical): Target labels for the species classification.\n",
    "\n",
    "    Returns:\n",
    "    --------\n",
    "    None\n",
    "        Displays a plot showing decision regions created by the neural network \n",
    "        for the given island group.\n",
    "\n",
    "    \"\"\"\n",
    "    # Scale features for Neural Network\n",
    "    scaler = StandardScaler()\n",
    "    X_group = group[[\"Culmen Length (mm)\", \"Culmen Depth (mm)\"]]\n",
    "    X_group_scaled = scaler.fit_transform(X_group)\n",
    "    y_group = group[\"Species\"]\n",
    "    \n",
    "    # Plot decision regions\n",
    "    plot_regions(nn_model.best_estimator_, pd.DataFrame(X_group_scaled, columns=X_group.columns), y_group)\n",
    "\n",
    "# Add species column to X_train for grouping\n",
    "data_train_nn = pd.concat([X_train, y_train.rename(\"Species\")], axis=1)\n",
    "\n",
    "# Visualize decision regions by Island\n",
    "print(\"Neural Network Decision Regions by Island:\")\n",
    "data_train_nn.groupby(\"Island\").apply(lambda group: plot_island_nn(nn_model, group))"
   ]
  },
  {
   "cell_type": "markdown",
   "id": "22e6ec4b-8636-46cf-bc8a-18405ee73539",
   "metadata": {},
   "source": [
    "**Decision Region:** The Neural Network produces smooth and adaptable decision boundaries, reflecting its ability to capture non-linear relationships between Culmen Length and Culmen Depth. On islands like Torgersen, where only Adelie penguins are present, the decision regions are uniform and simple. For islands like Dream and Biscoe, where multiple species coexist, the boundaries are more intricate, successfully separating species despite overlap. "
   ]
  },
  {
   "cell_type": "markdown",
   "id": "288b0319-a79d-458c-8c21-833986d68643",
   "metadata": {},
   "source": [
    "------------------"
   ]
  },
  {
   "cell_type": "markdown",
   "id": "3f6625fe-feaf-49cf-a308-8618985a21a1",
   "metadata": {},
   "source": [
    "## Final Discussion"
   ]
  },
  {
   "cell_type": "markdown",
   "id": "3f634c6d-01a4-4a8b-b757-90a454e6e25a",
   "metadata": {},
   "source": [
    "**Overall performace:**\n",
    "* All models have high accuracy scores (above .95 accuracy), which indicates that the selected features (Island, Culmen Length, Culmen Depth) provide excellent discrimination between penguin species\n",
    "* The logistic regression and neural network model provide the best predictions for species on unseen data:\n",
    "  * Logistic regression scored 1.0 accuracy on test set\n",
    "  * Neural network scored 1.0 accuracy on test set\n",
    "  * Perfect diagonal matrices on both models"
   ]
  },
  {
   "cell_type": "markdown",
   "id": "d3f854ad-75cb-4fd7-ac93-dc1cc2bb300b",
   "metadata": {},
   "source": [
    "**Improvements:**\n",
    "* Many rows contained missing values in key features like Culmen Length or Culmen Depth. Imputing these values using statistical methods or collecting more complete data would enhance the model's reliability.\n",
    "* Increasing the sample size would improve the robustness of the models, especially for species or islands with fewer observations. This could reduce the risk of overfitting."
   ]
  },
  {
   "cell_type": "markdown",
   "id": "9df50d23-6ecd-4905-b2ea-8e283c871aff",
   "metadata": {},
   "source": [
    "*TLDR:* Overall, we recommend the feature set ( island, Culmen Depth, Culmen Length) with the model Neural Network or Logistical Regression. "
   ]
  },
  {
   "cell_type": "code",
   "execution_count": null,
   "id": "dd78f4e9-f112-47ae-ae8b-4cd4c50aad9f",
   "metadata": {},
   "outputs": [],
   "source": []
  }
 ],
 "metadata": {
  "kernelspec": {
   "display_name": "Python 3 (ipykernel)",
   "language": "python",
   "name": "python3"
  },
  "language_info": {
   "codemirror_mode": {
    "name": "ipython",
    "version": 3
   },
   "file_extension": ".py",
   "mimetype": "text/x-python",
   "name": "python",
   "nbconvert_exporter": "python",
   "pygments_lexer": "ipython3",
   "version": "3.10.14"
  }
 },
 "nbformat": 4,
 "nbformat_minor": 5
}
